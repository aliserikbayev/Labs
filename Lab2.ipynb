{
  "metadata": {
    "kernelspec": {
      "name": "python",
      "display_name": "Python (Pyodide)",
      "language": "python"
    },
    "language_info": {
      "codemirror_mode": {
        "name": "python",
        "version": 3
      },
      "file_extension": ".py",
      "mimetype": "text/x-python",
      "name": "python",
      "nbconvert_exporter": "python",
      "pygments_lexer": "ipython3",
      "version": "3.8"
    }
  },
  "nbformat_minor": 5,
  "nbformat": 4,
  "cells": [
    {
      "id": "46cbec95-26ee-4226-988e-53ecc16e5578",
      "cell_type": "code",
      "source": "print(10 > 9)\nprint(10 == 9)\nprint(10 < 9)",
      "metadata": {
        "trusted": true
      },
      "outputs": [
        {
          "name": "stdout",
          "output_type": "stream",
          "text": "True\nFalse\nFalse\n"
        }
      ],
      "execution_count": 1
    },
    {
      "id": "91daae10-7f08-4020-870e-13f32fb3cc65",
      "cell_type": "code",
      "source": "a = 200\nb = 33\n\nif b > a:\n  print(\"b is greater than a\")\nelse:\n  print(\"b is not greater than a\")",
      "metadata": {
        "trusted": true
      },
      "outputs": [
        {
          "name": "stdout",
          "output_type": "stream",
          "text": "b is not greater than a\n"
        }
      ],
      "execution_count": 2
    },
    {
      "id": "e6ebfb7a-8be5-4cb0-9ce9-9b5262245a5b",
      "cell_type": "code",
      "source": "print(bool(\"Hello\"))\nprint(bool(15))",
      "metadata": {
        "trusted": true
      },
      "outputs": [
        {
          "name": "stdout",
          "output_type": "stream",
          "text": "True\nTrue\n"
        }
      ],
      "execution_count": 3
    },
    {
      "id": "b99f0d72-0ff7-469b-bf15-1cc983b13ab7",
      "cell_type": "code",
      "source": "x = \"Hello\"\ny = 15\n\nprint(bool(x))\nprint(bool(y))",
      "metadata": {
        "trusted": true
      },
      "outputs": [
        {
          "name": "stdout",
          "output_type": "stream",
          "text": "True\nTrue\n"
        }
      ],
      "execution_count": 4
    },
    {
      "id": "92a15446-096d-4e76-b58d-9cd41115e017",
      "cell_type": "code",
      "source": "bool(\"abc\")\nbool(123)\nbool([\"apple\", \"cherry\", \"banana\"])",
      "metadata": {
        "trusted": true
      },
      "outputs": [
        {
          "execution_count": 5,
          "output_type": "execute_result",
          "data": {
            "text/plain": "True"
          },
          "metadata": {}
        }
      ],
      "execution_count": 5
    },
    {
      "id": "be1116f0-a1e4-43b7-b0ca-d3cabbac7e1c",
      "cell_type": "code",
      "source": "bool(False)\nbool(None)\nbool(0)\nbool(\"\")\nbool(())\nbool([])\nbool({})",
      "metadata": {
        "trusted": true
      },
      "outputs": [
        {
          "execution_count": 6,
          "output_type": "execute_result",
          "data": {
            "text/plain": "False"
          },
          "metadata": {}
        }
      ],
      "execution_count": 6
    },
    {
      "id": "b9cb62f8-c368-4749-994f-266c5e553151",
      "cell_type": "code",
      "source": "class myclass():\n  def __len__(self):\n    return 0\n\nmyobj = myclass()\nprint(bool(myobj))",
      "metadata": {
        "trusted": true
      },
      "outputs": [
        {
          "name": "stdout",
          "output_type": "stream",
          "text": "False\n"
        }
      ],
      "execution_count": 7
    },
    {
      "id": "07f60f29-b85f-4807-9be7-dede1477c381",
      "cell_type": "code",
      "source": "def myFunction() :\n  return True\n\nprint(myFunction())",
      "metadata": {
        "trusted": true
      },
      "outputs": [
        {
          "name": "stdout",
          "output_type": "stream",
          "text": "True\n"
        }
      ],
      "execution_count": 8
    },
    {
      "id": "17a0b87b-b46a-4127-bc1c-1961491d1202",
      "cell_type": "code",
      "source": "def myFunction() :\n  return True\n\nif myFunction():\n  print(\"YES!\")\nelse:\n  print(\"NO!\")",
      "metadata": {
        "trusted": true
      },
      "outputs": [
        {
          "name": "stdout",
          "output_type": "stream",
          "text": "YES!\n"
        }
      ],
      "execution_count": 9
    },
    {
      "id": "eeb972c5-9520-4aee-b004-dc4fc03f3fc1",
      "cell_type": "code",
      "source": "x = 200\nprint(isinstance(x, int))",
      "metadata": {
        "trusted": true
      },
      "outputs": [
        {
          "name": "stdout",
          "output_type": "stream",
          "text": "True\n"
        }
      ],
      "execution_count": 10
    },
    {
      "id": "b504faed-a056-45ec-bb2f-188100b462f0",
      "cell_type": "code",
      "source": "print(10 + 5)",
      "metadata": {
        "trusted": true
      },
      "outputs": [
        {
          "name": "stdout",
          "output_type": "stream",
          "text": "15\n"
        }
      ],
      "execution_count": 11
    },
    {
      "id": "b3971615-5c8b-4f27-b49f-e96451e79b0e",
      "cell_type": "code",
      "source": "print((6 + 3) - (6 + 3))",
      "metadata": {
        "trusted": true
      },
      "outputs": [
        {
          "name": "stdout",
          "output_type": "stream",
          "text": "0\n"
        }
      ],
      "execution_count": 12
    },
    {
      "id": "0c596f8d-0d52-499d-be19-a7b919ef2f40",
      "cell_type": "code",
      "source": "print(100 + 5 * 3)\n",
      "metadata": {
        "trusted": true
      },
      "outputs": [
        {
          "name": "stdout",
          "output_type": "stream",
          "text": "115\n"
        }
      ],
      "execution_count": 13
    },
    {
      "id": "cf17226d-699b-4bbb-a5df-69017f31a296",
      "cell_type": "code",
      "source": "print(5 + 4 - 7 + 3)",
      "metadata": {
        "trusted": true
      },
      "outputs": [
        {
          "name": "stdout",
          "output_type": "stream",
          "text": "5\n"
        }
      ],
      "execution_count": 14
    },
    {
      "id": "74890316-343b-4f25-b306-b8e69169398d",
      "cell_type": "code",
      "source": "thislist = [\"apple\", \"banana\", \"cherry\"]\nprint(thislist)",
      "metadata": {
        "trusted": true
      },
      "outputs": [
        {
          "name": "stdout",
          "output_type": "stream",
          "text": "['apple', 'banana', 'cherry']\n"
        }
      ],
      "execution_count": 15
    },
    {
      "id": "9d065bc7-d74a-4632-8f70-0dc3f72328b4",
      "cell_type": "code",
      "source": "thislist = [\"apple\", \"banana\", \"cherry\", \"apple\", \"cherry\"]\nprint(thislist)",
      "metadata": {
        "trusted": true
      },
      "outputs": [
        {
          "name": "stdout",
          "output_type": "stream",
          "text": "['apple', 'banana', 'cherry', 'apple', 'cherry']\n"
        }
      ],
      "execution_count": 16
    },
    {
      "id": "44cd22cd-08b4-41c1-969e-3fc07c102def",
      "cell_type": "code",
      "source": "thislist = [\"apple\", \"banana\", \"cherry\"]\nprint(len(thislist))",
      "metadata": {
        "trusted": true
      },
      "outputs": [
        {
          "name": "stdout",
          "output_type": "stream",
          "text": "3\n"
        }
      ],
      "execution_count": 17
    },
    {
      "id": "d470b769-3a1d-4392-8fa1-06273c770896",
      "cell_type": "code",
      "source": "list1 = [\"apple\", \"banana\", \"cherry\"]\nlist2 = [1, 5, 7, 9, 3]\nlist3 = [True, False, False]",
      "metadata": {
        "trusted": true
      },
      "outputs": [],
      "execution_count": 19
    },
    {
      "id": "a8faf3e8-20c4-41bc-bde2-b2ef1660c8e2",
      "cell_type": "code",
      "source": "list1 = [\"abc\", 34, True, 40, \"male\"]",
      "metadata": {
        "trusted": true
      },
      "outputs": [],
      "execution_count": 20
    },
    {
      "id": "4307ee88-0a75-401e-a9ca-e3d69ce580ac",
      "cell_type": "code",
      "source": "mylist = [\"apple\", \"banana\", \"cherry\"]\nprint(type(mylist))",
      "metadata": {
        "trusted": true
      },
      "outputs": [
        {
          "name": "stdout",
          "output_type": "stream",
          "text": "<class 'list'>\n"
        }
      ],
      "execution_count": 21
    },
    {
      "id": "6d94a955-a653-4c68-a88c-2d91bc615d07",
      "cell_type": "code",
      "source": "thislist = list((\"apple\", \"banana\", \"cherry\")) # note the double round-brackets\nprint(thislist)",
      "metadata": {
        "trusted": true
      },
      "outputs": [
        {
          "name": "stdout",
          "output_type": "stream",
          "text": "['apple', 'banana', 'cherry']\n"
        }
      ],
      "execution_count": 22
    },
    {
      "id": "a24ce823-917c-4eb4-84ef-b95fe0b2fcb8",
      "cell_type": "code",
      "source": "thislist = [\"apple\", \"banana\", \"cherry\"]\nprint(thislist[1])",
      "metadata": {
        "trusted": true
      },
      "outputs": [
        {
          "name": "stdout",
          "output_type": "stream",
          "text": "banana\n"
        }
      ],
      "execution_count": 23
    },
    {
      "id": "9b3b5670-450f-46cd-9603-a3d8ad406845",
      "cell_type": "code",
      "source": "thislist = [\"apple\", \"banana\", \"cherry\"]\nprint(thislist[-1])",
      "metadata": {
        "trusted": true
      },
      "outputs": [
        {
          "name": "stdout",
          "output_type": "stream",
          "text": "cherry\n"
        }
      ],
      "execution_count": 24
    },
    {
      "id": "b0c6dc77-d8bf-4bb7-b1c8-39cfd74e5ba7",
      "cell_type": "code",
      "source": "thislist = [\"apple\", \"banana\", \"cherry\", \"orange\", \"kiwi\", \"melon\", \"mango\"]\nprint(thislist[2:5])",
      "metadata": {
        "trusted": true
      },
      "outputs": [
        {
          "name": "stdout",
          "output_type": "stream",
          "text": "['cherry', 'orange', 'kiwi']\n"
        }
      ],
      "execution_count": 25
    },
    {
      "id": "b3f9779f-9e7c-4c08-b15d-c007aa9665e4",
      "cell_type": "code",
      "source": "thislist = [\"apple\", \"banana\", \"cherry\", \"orange\", \"kiwi\", \"melon\", \"mango\"]\nprint(thislist[:4])",
      "metadata": {
        "trusted": true
      },
      "outputs": [
        {
          "name": "stdout",
          "output_type": "stream",
          "text": "['apple', 'banana', 'cherry', 'orange']\n"
        }
      ],
      "execution_count": 26
    },
    {
      "id": "efb9c7d7-bfc1-4236-9624-afded104e03d",
      "cell_type": "code",
      "source": "thislist = [\"apple\", \"banana\", \"cherry\", \"orange\", \"kiwi\", \"melon\", \"mango\"]\nprint(thislist[2:])",
      "metadata": {
        "trusted": true
      },
      "outputs": [
        {
          "name": "stdout",
          "output_type": "stream",
          "text": "['cherry', 'orange', 'kiwi', 'melon', 'mango']\n"
        }
      ],
      "execution_count": 27
    },
    {
      "id": "f628e6a5-3cca-4902-abdf-94a4a9f38820",
      "cell_type": "code",
      "source": "thislist = [\"apple\", \"banana\", \"cherry\", \"orange\", \"kiwi\", \"melon\", \"mango\"]\nprint(thislist[-4:-1])",
      "metadata": {
        "trusted": true
      },
      "outputs": [
        {
          "name": "stdout",
          "output_type": "stream",
          "text": "['orange', 'kiwi', 'melon']\n"
        }
      ],
      "execution_count": 28
    },
    {
      "id": "9d921b5c-c733-46b1-b746-36cb95f14d9f",
      "cell_type": "code",
      "source": "thislist = [\"apple\", \"banana\", \"cherry\"]\nif \"apple\" in thislist:\n  print(\"Yes, 'apple' is in the fruits list\")",
      "metadata": {
        "trusted": true
      },
      "outputs": [
        {
          "name": "stdout",
          "output_type": "stream",
          "text": "Yes, 'apple' is in the fruits list\n"
        }
      ],
      "execution_count": 29
    },
    {
      "id": "1e43f306-4b8a-4627-a906-9bf1bdbbcea5",
      "cell_type": "code",
      "source": "thislist = [\"apple\", \"banana\", \"cherry\"]\nthislist[1] = \"blackcurrant\"\nprint(thislist)",
      "metadata": {
        "trusted": true
      },
      "outputs": [
        {
          "name": "stdout",
          "output_type": "stream",
          "text": "['apple', 'blackcurrant', 'cherry']\n"
        }
      ],
      "execution_count": 30
    },
    {
      "id": "9dccbfda-d093-492a-8ff9-73f9462e405c",
      "cell_type": "code",
      "source": "thislist = [\"apple\", \"banana\", \"cherry\", \"orange\", \"kiwi\", \"mango\"]\nthislist[1:3] = [\"blackcurrant\", \"watermelon\"]\nprint(thislist)\n",
      "metadata": {
        "trusted": true
      },
      "outputs": [
        {
          "name": "stdout",
          "output_type": "stream",
          "text": "['apple', 'blackcurrant', 'watermelon', 'orange', 'kiwi', 'mango']\n"
        }
      ],
      "execution_count": 31
    },
    {
      "id": "05e37f3c-ed4e-42e5-8f02-0b6f2e1de8dd",
      "cell_type": "code",
      "source": "thislist = [\"apple\", \"banana\", \"cherry\"]\nthislist[1:2] = [\"blackcurrant\", \"watermelon\"]\nprint(thislist)",
      "metadata": {
        "trusted": true
      },
      "outputs": [
        {
          "name": "stdout",
          "output_type": "stream",
          "text": "['apple', 'blackcurrant', 'watermelon', 'cherry']\n"
        }
      ],
      "execution_count": 32
    },
    {
      "id": "b2c83595-d11f-4c55-b20c-7d319e44b042",
      "cell_type": "code",
      "source": "thislist = [\"apple\", \"banana\", \"cherry\"]\nthislist[1:3] = [\"watermelon\"]\nprint(thislist)",
      "metadata": {
        "trusted": true
      },
      "outputs": [
        {
          "name": "stdout",
          "output_type": "stream",
          "text": "['apple', 'watermelon']\n"
        }
      ],
      "execution_count": 33
    },
    {
      "id": "015d6be1-38de-48b7-af57-1af861c6ad57",
      "cell_type": "code",
      "source": "thislist = [\"apple\", \"banana\", \"cherry\"]\nthislist.insert(2, \"watermelon\")\nprint(thislist)",
      "metadata": {
        "trusted": true
      },
      "outputs": [
        {
          "name": "stdout",
          "output_type": "stream",
          "text": "['apple', 'banana', 'watermelon', 'cherry']\n"
        }
      ],
      "execution_count": 34
    },
    {
      "id": "d2fedae2-5e2b-459e-afe0-27872af9b6fa",
      "cell_type": "code",
      "source": "thislist = [\"apple\", \"banana\", \"cherry\"]\nthislist.append(\"orange\")\nprint(thislist)",
      "metadata": {
        "trusted": true
      },
      "outputs": [
        {
          "name": "stdout",
          "output_type": "stream",
          "text": "['apple', 'banana', 'cherry', 'orange']\n"
        }
      ],
      "execution_count": 35
    },
    {
      "id": "c7a7a0da-7d1b-4f1c-9551-8f693fe86e37",
      "cell_type": "code",
      "source": "thislist = [\"apple\", \"banana\", \"cherry\"]\nthislist.insert(1, \"orange\")\nprint(thislist)",
      "metadata": {
        "trusted": true
      },
      "outputs": [
        {
          "name": "stdout",
          "output_type": "stream",
          "text": "['apple', 'orange', 'banana', 'cherry']\n"
        }
      ],
      "execution_count": 36
    },
    {
      "id": "44d54548-1525-4ea2-b0ad-16b27fbdb023",
      "cell_type": "code",
      "source": "thislist = [\"apple\", \"banana\", \"cherry\"]\ntropical = [\"mango\", \"pineapple\", \"papaya\"]\nthislist.extend(tropical)\nprint(thislist)",
      "metadata": {
        "trusted": true
      },
      "outputs": [
        {
          "name": "stdout",
          "output_type": "stream",
          "text": "['apple', 'banana', 'cherry', 'mango', 'pineapple', 'papaya']\n"
        }
      ],
      "execution_count": 37
    },
    {
      "id": "7daf98ca-dd8c-4381-bd67-7cf67704adb2",
      "cell_type": "code",
      "source": "thislist = [\"apple\", \"banana\", \"cherry\"]\nthistuple = (\"kiwi\", \"orange\")\nthislist.extend(thistuple)\nprint(thislist)",
      "metadata": {
        "trusted": true
      },
      "outputs": [
        {
          "name": "stdout",
          "output_type": "stream",
          "text": "['apple', 'banana', 'cherry', 'kiwi', 'orange']\n"
        }
      ],
      "execution_count": 38
    },
    {
      "id": "ed5925ab-000d-4cd8-b30c-c5bbbbdd1295",
      "cell_type": "code",
      "source": "thislist = [\"apple\", \"banana\", \"cherry\"]\nthislist.remove(\"banana\")\nprint(thislist)",
      "metadata": {
        "trusted": true
      },
      "outputs": [
        {
          "name": "stdout",
          "output_type": "stream",
          "text": "['apple', 'cherry']\n"
        }
      ],
      "execution_count": 39
    },
    {
      "id": "51e85ae7-1072-4369-9292-bcbf447559ba",
      "cell_type": "code",
      "source": "thislist = [\"apple\", \"banana\", \"cherry\", \"banana\", \"kiwi\"]\nthislist.remove(\"banana\")\nprint(thislist)",
      "metadata": {
        "trusted": true
      },
      "outputs": [
        {
          "name": "stdout",
          "output_type": "stream",
          "text": "['apple', 'cherry', 'banana', 'kiwi']\n"
        }
      ],
      "execution_count": 40
    },
    {
      "id": "45f91843-524e-4a31-9507-e7a3a8ff2bc8",
      "cell_type": "code",
      "source": "thislist = [\"apple\", \"banana\", \"cherry\"]\nthislist.pop(1)\nprint(thislist)",
      "metadata": {
        "trusted": true
      },
      "outputs": [
        {
          "name": "stdout",
          "output_type": "stream",
          "text": "['apple', 'cherry']\n"
        }
      ],
      "execution_count": 41
    },
    {
      "id": "f40934ea-4ef4-465e-bb22-0ed6b84d4fd7",
      "cell_type": "code",
      "source": "thislist = [\"apple\", \"banana\", \"cherry\"]\nthislist.pop()\nprint(thislist)",
      "metadata": {
        "trusted": true
      },
      "outputs": [
        {
          "name": "stdout",
          "output_type": "stream",
          "text": "['apple', 'banana']\n"
        }
      ],
      "execution_count": 42
    },
    {
      "id": "8bf98927-3e5b-4a67-9a3d-2d4fc0576d66",
      "cell_type": "code",
      "source": "thislist = [\"apple\", \"banana\", \"cherry\"]\ndel thislist[0]\nprint(thislist)",
      "metadata": {
        "trusted": true
      },
      "outputs": [
        {
          "name": "stdout",
          "output_type": "stream",
          "text": "['banana', 'cherry']\n"
        }
      ],
      "execution_count": 43
    },
    {
      "id": "92a63ee0-83f4-4530-8f01-75cd03722912",
      "cell_type": "code",
      "source": "thislist = [\"apple\", \"banana\", \"cherry\"]\ndel thislist",
      "metadata": {
        "trusted": true
      },
      "outputs": [],
      "execution_count": 44
    },
    {
      "id": "a1a52774-fb0e-4f0f-8848-63f4492c2c17",
      "cell_type": "code",
      "source": "thislist = [\"apple\", \"banana\", \"cherry\"]\nthislist.clear()\nprint(thislist)",
      "metadata": {
        "trusted": true
      },
      "outputs": [
        {
          "name": "stdout",
          "output_type": "stream",
          "text": "[]\n"
        }
      ],
      "execution_count": 45
    },
    {
      "id": "072b5cab-408c-4e4a-9ef0-0058f572b35d",
      "cell_type": "code",
      "source": "thislist = [\"apple\", \"banana\", \"cherry\"]\nfor x in thislist:\n  print(x)",
      "metadata": {
        "trusted": true
      },
      "outputs": [
        {
          "name": "stdout",
          "output_type": "stream",
          "text": "apple\nbanana\ncherry\n"
        }
      ],
      "execution_count": 46
    },
    {
      "id": "dcdbda15-bef9-4e7a-bc1a-133fbc80313d",
      "cell_type": "code",
      "source": "thislist = [\"apple\", \"banana\", \"cherry\"]\nfor i in range(len(thislist)):\n  print(thislist[i])",
      "metadata": {
        "trusted": true
      },
      "outputs": [
        {
          "name": "stdout",
          "output_type": "stream",
          "text": "apple\nbanana\ncherry\n"
        }
      ],
      "execution_count": 47
    },
    {
      "id": "37a55a73-24e0-48e5-8f20-a6a0cb95bb21",
      "cell_type": "code",
      "source": "thislist = [\"apple\", \"banana\", \"cherry\"]\ni = 0\nwhile i < len(thislist):\n  print(thislist[i])\n  i = i + 1",
      "metadata": {
        "trusted": true
      },
      "outputs": [
        {
          "name": "stdout",
          "output_type": "stream",
          "text": "apple\nbanana\ncherry\n"
        }
      ],
      "execution_count": 48
    },
    {
      "id": "d1341e7c-a4e6-456e-be61-021b99cd84a3",
      "cell_type": "code",
      "source": "thislist = [\"apple\", \"banana\", \"cherry\"]\n[print(x) for x in thislist]",
      "metadata": {
        "trusted": true
      },
      "outputs": [
        {
          "name": "stdout",
          "output_type": "stream",
          "text": "apple\nbanana\ncherry\n"
        },
        {
          "execution_count": 49,
          "output_type": "execute_result",
          "data": {
            "text/plain": "[None, None, None]"
          },
          "metadata": {}
        }
      ],
      "execution_count": 49
    },
    {
      "id": "9de23882-f2f5-4830-bae8-e5442e1c2ac8",
      "cell_type": "code",
      "source": "fruits = [\"apple\", \"banana\", \"cherry\", \"kiwi\", \"mango\"]\nnewlist = []\n\nfor x in fruits:\n  if \"a\" in x:\n    newlist.append(x)\n\nprint(newlist)",
      "metadata": {
        "trusted": true
      },
      "outputs": [
        {
          "name": "stdout",
          "output_type": "stream",
          "text": "['apple', 'banana', 'mango']\n"
        }
      ],
      "execution_count": 50
    },
    {
      "id": "93be2d62-afa7-4530-841a-15fb7515a91e",
      "cell_type": "code",
      "source": "fruits = [\"apple\", \"banana\", \"cherry\", \"kiwi\", \"mango\"]\n\nnewlist = [x for x in fruits if \"a\" in x]\n\nprint(newlist)",
      "metadata": {
        "trusted": true
      },
      "outputs": [
        {
          "name": "stdout",
          "output_type": "stream",
          "text": "['apple', 'banana', 'mango']\n"
        }
      ],
      "execution_count": 51
    },
    {
      "id": "720040d3-7764-403c-90c1-efbdc5219069",
      "cell_type": "code",
      "source": "newlist = [expression for item in iterable if condition == True]",
      "metadata": {
        "trusted": true
      },
      "outputs": [
        {
          "ename": "<class 'NameError'>",
          "evalue": "name 'iterable' is not defined",
          "traceback": [
            "\u001b[0;31m---------------------------------------------------------------------------\u001b[0m",
            "\u001b[0;31mNameError\u001b[0m                                 Traceback (most recent call last)",
            "Cell \u001b[0;32mIn[52], line 1\u001b[0m\n\u001b[0;32m----> 1\u001b[0m newlist \u001b[38;5;241m=\u001b[39m [expression \u001b[38;5;28;01mfor\u001b[39;00m item \u001b[38;5;129;01min\u001b[39;00m \u001b[43miterable\u001b[49m \u001b[38;5;28;01mif\u001b[39;00m condition \u001b[38;5;241m==\u001b[39m \u001b[38;5;28;01mTrue\u001b[39;00m]\n",
            "\u001b[0;31mNameError\u001b[0m: name 'iterable' is not defined"
          ],
          "output_type": "error"
        }
      ],
      "execution_count": 52
    },
    {
      "id": "d60006ed-b97c-4468-b4d8-12b5f448c8b0",
      "cell_type": "code",
      "source": "newlist = [x for x in fruits if x != \"apple\"]\nprint(newlist)",
      "metadata": {
        "trusted": true
      },
      "outputs": [
        {
          "name": "stdout",
          "output_type": "stream",
          "text": "['banana', 'cherry', 'kiwi', 'mango']\n"
        }
      ],
      "execution_count": 56
    },
    {
      "id": "07374a04-5b98-4d09-9873-34211db6cd7d",
      "cell_type": "code",
      "source": "newlist = [x for x in fruits]\nprint(newlist)",
      "metadata": {
        "trusted": true
      },
      "outputs": [
        {
          "name": "stdout",
          "output_type": "stream",
          "text": "['apple', 'banana', 'cherry', 'kiwi', 'mango']\n"
        }
      ],
      "execution_count": 57
    },
    {
      "id": "32afdba1-a675-44bb-af16-05fe68b6eecb",
      "cell_type": "code",
      "source": "newlist = [x for x in range(10)]\nprint(newlist)",
      "metadata": {
        "trusted": true
      },
      "outputs": [
        {
          "name": "stdout",
          "output_type": "stream",
          "text": "[0, 1, 2, 3, 4, 5, 6, 7, 8, 9]\n"
        }
      ],
      "execution_count": 58
    },
    {
      "id": "d24220ff-fb6c-4849-a530-b711a161e102",
      "cell_type": "code",
      "source": "newlist = [x for x in range(10) if x < 5]\nprint(newlist)",
      "metadata": {
        "trusted": true
      },
      "outputs": [
        {
          "name": "stdout",
          "output_type": "stream",
          "text": "[0, 1, 2, 3, 4]\n"
        }
      ],
      "execution_count": 59
    },
    {
      "id": "51598506-3c87-433c-831c-b395009919a0",
      "cell_type": "code",
      "source": "newlist = [x.upper() for x in fruits]\nprint(newlist)",
      "metadata": {
        "trusted": true
      },
      "outputs": [
        {
          "name": "stdout",
          "output_type": "stream",
          "text": "['APPLE', 'BANANA', 'CHERRY', 'KIWI', 'MANGO']\n"
        }
      ],
      "execution_count": 61
    },
    {
      "id": "2431c90b-82ae-4437-a1f4-a983505e62a7",
      "cell_type": "code",
      "source": "newlist = ['hello' for x in fruits]\nprint(newlist)",
      "metadata": {
        "trusted": true
      },
      "outputs": [
        {
          "name": "stdout",
          "output_type": "stream",
          "text": "['hello', 'hello', 'hello', 'hello', 'hello']\n"
        }
      ],
      "execution_count": 62
    },
    {
      "id": "e1d3cbea-32dc-42a7-908f-e27102f25a39",
      "cell_type": "code",
      "source": "newlist = [x if x != \"banana\" else \"orange\" for x in fruits]\nprint(newlist)",
      "metadata": {
        "trusted": true
      },
      "outputs": [
        {
          "name": "stdout",
          "output_type": "stream",
          "text": "['apple', 'orange', 'cherry', 'kiwi', 'mango']\n"
        }
      ],
      "execution_count": 63
    },
    {
      "id": "5f80fc9e-f5ab-439e-b329-7d939aa590f8",
      "cell_type": "code",
      "source": "thislist = [\"orange\", \"mango\", \"kiwi\", \"pineapple\", \"banana\"]\nthislist.sort()\nprint(thislist)",
      "metadata": {
        "trusted": true
      },
      "outputs": [
        {
          "name": "stdout",
          "output_type": "stream",
          "text": "['banana', 'kiwi', 'mango', 'orange', 'pineapple']\n"
        }
      ],
      "execution_count": 64
    },
    {
      "id": "b25e0744-3e6d-411c-8163-6e27c190c2bf",
      "cell_type": "code",
      "source": "thislist = [100, 50, 65, 82, 23]\nthislist.sort()\nprint(thislist)",
      "metadata": {
        "trusted": true
      },
      "outputs": [
        {
          "name": "stdout",
          "output_type": "stream",
          "text": "[23, 50, 65, 82, 100]\n"
        }
      ],
      "execution_count": 65
    },
    {
      "id": "43f8de1c-f8b2-4870-8547-3277a6b7a839",
      "cell_type": "code",
      "source": "thislist = [\"orange\", \"mango\", \"kiwi\", \"pineapple\", \"banana\"]\nthislist.sort(reverse = True)\nprint(thislist)",
      "metadata": {
        "trusted": true
      },
      "outputs": [
        {
          "name": "stdout",
          "output_type": "stream",
          "text": "['pineapple', 'orange', 'mango', 'kiwi', 'banana']\n"
        }
      ],
      "execution_count": 66
    },
    {
      "id": "bb40693b-d877-4719-89c5-6aba02a5f533",
      "cell_type": "code",
      "source": "thislist = [100, 50, 65, 82, 23]\nthislist.sort(reverse = True)\nprint(thislist)",
      "metadata": {
        "trusted": true
      },
      "outputs": [
        {
          "name": "stdout",
          "output_type": "stream",
          "text": "[100, 82, 65, 50, 23]\n"
        }
      ],
      "execution_count": 67
    },
    {
      "id": "05639deb-766a-4abe-a13c-876bfdaa6d7c",
      "cell_type": "code",
      "source": "thislist = [\"apple\", \"banana\", \"cherry\"]\nmylist = thislist.copy()\nprint(mylist)",
      "metadata": {
        "trusted": true
      },
      "outputs": [
        {
          "name": "stdout",
          "output_type": "stream",
          "text": "['apple', 'banana', 'cherry']\n"
        }
      ],
      "execution_count": 68
    },
    {
      "id": "70d9d778-497a-4f16-b1a9-ccea21df651a",
      "cell_type": "code",
      "source": "thislist = [\"apple\", \"banana\", \"cherry\"]\nmylist = list(thislist)\nprint(mylist)",
      "metadata": {
        "trusted": true
      },
      "outputs": [
        {
          "name": "stdout",
          "output_type": "stream",
          "text": "['apple', 'banana', 'cherry']\n"
        }
      ],
      "execution_count": 69
    },
    {
      "id": "a3f396f9-0ddd-4186-a11a-511a45298364",
      "cell_type": "code",
      "source": "thislist = [\"apple\", \"banana\", \"cherry\"]\nmylist = thislist[:]\nprint(mylist)",
      "metadata": {
        "trusted": true
      },
      "outputs": [
        {
          "name": "stdout",
          "output_type": "stream",
          "text": "['apple', 'banana', 'cherry']\n"
        }
      ],
      "execution_count": 70
    },
    {
      "id": "b4bf6090-ecbc-4cb2-96a0-5628fc84585d",
      "cell_type": "code",
      "source": "list1 = [\"a\", \"b\", \"c\"]\nlist2 = [1, 2, 3]\n\nlist3 = list1 + list2\nprint(list3)",
      "metadata": {
        "trusted": true
      },
      "outputs": [
        {
          "name": "stdout",
          "output_type": "stream",
          "text": "['a', 'b', 'c', 1, 2, 3]\n"
        }
      ],
      "execution_count": 71
    },
    {
      "id": "5f23b2b8-16ee-4cf0-a5fc-63e280fa503c",
      "cell_type": "code",
      "source": "list1 = [\"a\", \"b\" , \"c\"]\nlist2 = [1, 2, 3]\n\nfor x in list2:\n  list1.append(x)\n\nprint(list1)",
      "metadata": {
        "trusted": true
      },
      "outputs": [
        {
          "name": "stdout",
          "output_type": "stream",
          "text": "['a', 'b', 'c', 1, 2, 3]\n"
        }
      ],
      "execution_count": 72
    },
    {
      "id": "c34cb4c8-f4d9-431a-98a6-fdc52e2a553d",
      "cell_type": "code",
      "source": "list1 = [\"a\", \"b\" , \"c\"]\nlist2 = [1, 2, 3]\n\nlist1.extend(list2)\nprint(list1)",
      "metadata": {
        "trusted": true
      },
      "outputs": [
        {
          "name": "stdout",
          "output_type": "stream",
          "text": "['a', 'b', 'c', 1, 2, 3]\n"
        }
      ],
      "execution_count": 73
    },
    {
      "id": "64c1b91f-56db-492a-b362-1300e7519126",
      "cell_type": "code",
      "source": "fruits = ['apple', 'banana', 'cherry']\nfruits.append(\"orange\")\nprint(fruits)",
      "metadata": {
        "trusted": true
      },
      "outputs": [
        {
          "name": "stdout",
          "output_type": "stream",
          "text": "['apple', 'banana', 'cherry', 'orange']\n"
        }
      ],
      "execution_count": 75
    },
    {
      "id": "bb63f954-8bd4-470c-a34c-ea5c189bb957",
      "cell_type": "code",
      "source": "a = [\"apple\", \"banana\", \"cherry\"]\nb = [\"Ford\", \"BMW\", \"Volvo\"]\na.append(b)\nprint(a)",
      "metadata": {
        "trusted": true
      },
      "outputs": [
        {
          "name": "stdout",
          "output_type": "stream",
          "text": "['apple', 'banana', 'cherry', ['Ford', 'BMW', 'Volvo']]\n"
        }
      ],
      "execution_count": 76
    },
    {
      "id": "eaf24946-f819-416f-abac-33713e125f06",
      "cell_type": "code",
      "source": "fruits = ['apple', 'banana', 'cherry', 'orange']\n\nfruits.clear()\nprint(fruits)",
      "metadata": {
        "trusted": true
      },
      "outputs": [
        {
          "name": "stdout",
          "output_type": "stream",
          "text": "[]\n"
        }
      ],
      "execution_count": 78
    },
    {
      "id": "9381293d-324b-49af-9879-5c8289a2794a",
      "cell_type": "code",
      "source": "fruits = ['apple', 'banana', 'cherry', 'orange']\n\nx = fruits.copy()\nprint(fruits)",
      "metadata": {
        "trusted": true
      },
      "outputs": [
        {
          "name": "stdout",
          "output_type": "stream",
          "text": "['apple', 'banana', 'cherry', 'orange']\n"
        }
      ],
      "execution_count": 79
    },
    {
      "id": "36d06059-d099-4e31-a42c-852a0e5d7bf0",
      "cell_type": "code",
      "source": "fruits = ['apple', 'banana', 'cherry']\n\nx = fruits.count(\"cherry\")\nprint(x)",
      "metadata": {
        "trusted": true
      },
      "outputs": [
        {
          "name": "stdout",
          "output_type": "stream",
          "text": "1\n"
        }
      ],
      "execution_count": 81
    },
    {
      "id": "a1520f99-b204-4958-abf8-515baf5dccea",
      "cell_type": "code",
      "source": "fruits = ['apple', 'banana', 'cherry']\n\ncars = ['Ford', 'BMW', 'Volvo']\n\nfruits.extend(cars)\nprint(fruits)",
      "metadata": {
        "trusted": true
      },
      "outputs": [
        {
          "name": "stdout",
          "output_type": "stream",
          "text": "['apple', 'banana', 'cherry', 'Ford', 'BMW', 'Volvo']\n"
        }
      ],
      "execution_count": 82
    },
    {
      "id": "aef21f66-2bec-4d26-bbc3-7604d6a8d64a",
      "cell_type": "code",
      "source": "fruits = ['apple', 'banana', 'cherry']\n\nx = fruits.index(\"cherry\")\nprint(x)",
      "metadata": {
        "trusted": true
      },
      "outputs": [
        {
          "name": "stdout",
          "output_type": "stream",
          "text": "2\n"
        }
      ],
      "execution_count": 83
    },
    {
      "id": "62def2ad-80ff-4ed1-b01d-6a8caf868c02",
      "cell_type": "code",
      "source": "fruits = ['apple', 'banana', 'cherry']\n\nfruits.insert(1, \"orange\")\nprint(fruits)",
      "metadata": {
        "trusted": true
      },
      "outputs": [
        {
          "name": "stdout",
          "output_type": "stream",
          "text": "['apple', 'orange', 'banana', 'cherry']\n"
        }
      ],
      "execution_count": 84
    },
    {
      "id": "8d6e5cb6-5465-494c-a030-abd9aff3f76f",
      "cell_type": "code",
      "source": "fruits = ['apple', 'banana', 'cherry']\n\nfruits.pop(1)\nprint(fruits)",
      "metadata": {
        "trusted": true
      },
      "outputs": [
        {
          "name": "stdout",
          "output_type": "stream",
          "text": "['apple', 'cherry']\n"
        }
      ],
      "execution_count": 85
    },
    {
      "id": "287139f2-b3d6-44ac-9673-1fa063bc385e",
      "cell_type": "code",
      "source": "fruits = ['apple', 'banana', 'cherry']\n\nfruits.remove(\"banana\")\nprint(fruits)",
      "metadata": {
        "trusted": true
      },
      "outputs": [
        {
          "name": "stdout",
          "output_type": "stream",
          "text": "['apple', 'cherry']\n"
        }
      ],
      "execution_count": 86
    },
    {
      "id": "fd0d4cad-f245-4876-ae80-4bfee1b25127",
      "cell_type": "code",
      "source": "fruits = ['apple', 'banana', 'cherry']\n\nfruits.reverse()\nprint(fruits)",
      "metadata": {
        "trusted": true
      },
      "outputs": [
        {
          "name": "stdout",
          "output_type": "stream",
          "text": "['cherry', 'banana', 'apple']\n"
        }
      ],
      "execution_count": 87
    },
    {
      "id": "cda6e396-767b-48a3-a58e-92205e0567d8",
      "cell_type": "code",
      "source": "cars = ['Ford', 'BMW', 'Volvo']\n\ncars.sort()\nprint(cars)",
      "metadata": {
        "trusted": true
      },
      "outputs": [
        {
          "name": "stdout",
          "output_type": "stream",
          "text": "['BMW', 'Ford', 'Volvo']\n"
        }
      ],
      "execution_count": 88
    },
    {
      "id": "4c408472-50d0-4b79-b6b2-99e5b0dee4df",
      "cell_type": "code",
      "source": "thistuple = (\"apple\", \"banana\", \"cherry\")\nprint(thistuple)",
      "metadata": {
        "trusted": true
      },
      "outputs": [
        {
          "name": "stdout",
          "output_type": "stream",
          "text": "('apple', 'banana', 'cherry')\n"
        }
      ],
      "execution_count": 89
    },
    {
      "id": "a15200ab-626e-4a56-b4ce-1aa930ad940d",
      "cell_type": "code",
      "source": "thistuple = (\"apple\", \"banana\", \"cherry\", \"apple\", \"cherry\")\nprint(thistuple)",
      "metadata": {
        "trusted": true
      },
      "outputs": [
        {
          "name": "stdout",
          "output_type": "stream",
          "text": "('apple', 'banana', 'cherry', 'apple', 'cherry')\n"
        }
      ],
      "execution_count": 90
    },
    {
      "id": "bab96cda-c3e2-493f-82da-8f5a97f0ad9e",
      "cell_type": "code",
      "source": "thistuple = (\"apple\", \"banana\", \"cherry\")\nprint(len(thistuple))",
      "metadata": {
        "trusted": true
      },
      "outputs": [
        {
          "name": "stdout",
          "output_type": "stream",
          "text": "3\n"
        }
      ],
      "execution_count": 91
    },
    {
      "id": "c2482621-6750-4b47-9c2f-9c20b27991a5",
      "cell_type": "code",
      "source": "thistuple = (\"apple\",)\nprint(type(thistuple))\n\n#NOT a tuple\nthistuple = (\"apple\")\nprint(type(thistuple))",
      "metadata": {
        "trusted": true
      },
      "outputs": [
        {
          "name": "stdout",
          "output_type": "stream",
          "text": "<class 'tuple'>\n<class 'str'>\n"
        }
      ],
      "execution_count": 92
    },
    {
      "id": "4ba03bb0-52ac-4b93-9408-309616525f73",
      "cell_type": "code",
      "source": "tuple1 = (\"apple\", \"banana\", \"cherry\")\ntuple2 = (1, 5, 7, 9, 3)\ntuple3 = (True, False, False)",
      "metadata": {
        "trusted": true
      },
      "outputs": [],
      "execution_count": 93
    },
    {
      "id": "1836fa2a-cd89-40eb-84ed-ac414212f415",
      "cell_type": "code",
      "source": "tuple1 = (\"abc\", 34, True, 40, \"male\")",
      "metadata": {
        "trusted": true
      },
      "outputs": [],
      "execution_count": 94
    },
    {
      "id": "776405c9-2dfe-4f55-a579-de518ce12b50",
      "cell_type": "code",
      "source": "mytuple = (\"apple\", \"banana\", \"cherry\")\nprint(type(mytuple))",
      "metadata": {
        "trusted": true
      },
      "outputs": [
        {
          "name": "stdout",
          "output_type": "stream",
          "text": "<class 'tuple'>\n"
        }
      ],
      "execution_count": 95
    },
    {
      "id": "124fa61f-41f8-4540-b586-de98d85ffb45",
      "cell_type": "code",
      "source": "thistuple = tuple((\"apple\", \"banana\", \"cherry\")) # note the double round-brackets\nprint(thistuple)",
      "metadata": {
        "trusted": true
      },
      "outputs": [
        {
          "name": "stdout",
          "output_type": "stream",
          "text": "('apple', 'banana', 'cherry')\n"
        }
      ],
      "execution_count": 96
    },
    {
      "id": "17ebd670-ac43-4917-904c-5aabe9d7b0bb",
      "cell_type": "code",
      "source": "thistuple = (\"apple\", \"banana\", \"cherry\")\nprint(thistuple[1])",
      "metadata": {
        "trusted": true
      },
      "outputs": [
        {
          "name": "stdout",
          "output_type": "stream",
          "text": "banana\n"
        }
      ],
      "execution_count": 97
    },
    {
      "id": "cf3078f3-d783-48ad-94ef-8b3c328350fb",
      "cell_type": "code",
      "source": "thistuple = (\"apple\", \"banana\", \"cherry\")\nprint(thistuple[-1])",
      "metadata": {
        "trusted": true
      },
      "outputs": [
        {
          "name": "stdout",
          "output_type": "stream",
          "text": "cherry\n"
        }
      ],
      "execution_count": 98
    },
    {
      "id": "16e8621f-3548-4ef7-8f4e-9d704faef7d8",
      "cell_type": "code",
      "source": "thistuple = (\"apple\", \"banana\", \"cherry\", \"orange\", \"kiwi\", \"melon\", \"mango\")\nprint(thistuple[2:5])",
      "metadata": {
        "trusted": true
      },
      "outputs": [
        {
          "name": "stdout",
          "output_type": "stream",
          "text": "('cherry', 'orange', 'kiwi')\n"
        }
      ],
      "execution_count": 99
    },
    {
      "id": "aa2e3828-d785-4ccc-97c9-1e505f72afb6",
      "cell_type": "code",
      "source": "thistuple = (\"apple\", \"banana\", \"cherry\", \"orange\", \"kiwi\", \"melon\", \"mango\")\nprint(thistuple[:4])",
      "metadata": {
        "trusted": true
      },
      "outputs": [
        {
          "name": "stdout",
          "output_type": "stream",
          "text": "('apple', 'banana', 'cherry', 'orange')\n"
        }
      ],
      "execution_count": 100
    },
    {
      "id": "e6e9aa84-0aee-4eb1-bf32-77f4a3bb99b0",
      "cell_type": "code",
      "source": "thistuple = (\"apple\", \"banana\", \"cherry\", \"orange\", \"kiwi\", \"melon\", \"mango\")\nprint(thistuple[2:])",
      "metadata": {
        "trusted": true
      },
      "outputs": [
        {
          "name": "stdout",
          "output_type": "stream",
          "text": "('cherry', 'orange', 'kiwi', 'melon', 'mango')\n"
        }
      ],
      "execution_count": 101
    },
    {
      "id": "dc1962f1-3adf-460a-9551-3e9b56ac7205",
      "cell_type": "code",
      "source": "thistuple = (\"apple\", \"banana\", \"cherry\", \"orange\", \"kiwi\", \"melon\", \"mango\")\nprint(thistuple[-4:-1])",
      "metadata": {
        "trusted": true
      },
      "outputs": [
        {
          "name": "stdout",
          "output_type": "stream",
          "text": "('orange', 'kiwi', 'melon')\n"
        }
      ],
      "execution_count": 102
    },
    {
      "id": "32d7ac94-1ad3-45fa-9e92-108a4fb9b891",
      "cell_type": "code",
      "source": "thistuple = (\"apple\", \"banana\", \"cherry\")\nif \"apple\" in thistuple:\n  print(\"Yes, 'apple' is in the fruits tuple\")",
      "metadata": {
        "trusted": true
      },
      "outputs": [
        {
          "name": "stdout",
          "output_type": "stream",
          "text": "Yes, 'apple' is in the fruits tuple\n"
        }
      ],
      "execution_count": 103
    },
    {
      "id": "e736a2e7-1ed2-487e-aedc-e05491aedc6f",
      "cell_type": "code",
      "source": "x = (\"apple\", \"banana\", \"cherry\")\ny = list(x)\ny[1] = \"kiwi\"\nx = tuple(y)\n\nprint(x)",
      "metadata": {
        "trusted": true
      },
      "outputs": [
        {
          "name": "stdout",
          "output_type": "stream",
          "text": "('apple', 'kiwi', 'cherry')\n"
        }
      ],
      "execution_count": 104
    },
    {
      "id": "05fc3e37-c4d1-48b5-a5e8-db47378b4be2",
      "cell_type": "code",
      "source": "thistuple = (\"apple\", \"banana\", \"cherry\")\ny = list(thistuple)\ny.append(\"orange\")\nthistuple = tuple(y)\nprint(thistuple)",
      "metadata": {
        "trusted": true
      },
      "outputs": [
        {
          "name": "stdout",
          "output_type": "stream",
          "text": "('apple', 'banana', 'cherry', 'orange')\n"
        }
      ],
      "execution_count": 106
    },
    {
      "id": "a60a4f11-719d-4f2a-b55f-c6862e725685",
      "cell_type": "code",
      "source": "thistuple = (\"apple\", \"banana\", \"cherry\")\ny = (\"orange\",)\nthistuple += y\n\nprint(thistuple)",
      "metadata": {
        "trusted": true
      },
      "outputs": [
        {
          "name": "stdout",
          "output_type": "stream",
          "text": "('apple', 'banana', 'cherry', 'orange')\n"
        }
      ],
      "execution_count": 107
    },
    {
      "id": "5d97aca3-3cd7-4a0e-92dc-95e5e64fee30",
      "cell_type": "code",
      "source": "thistuple = (\"apple\", \"banana\", \"cherry\")\ny = list(thistuple)\ny.remove(\"apple\")\nthistuple = tuple(y)\nprint(thistuple)",
      "metadata": {
        "trusted": true
      },
      "outputs": [
        {
          "name": "stdout",
          "output_type": "stream",
          "text": "('banana', 'cherry')\n"
        }
      ],
      "execution_count": 109
    },
    {
      "id": "81784782-776e-469b-96ba-445464029cfe",
      "cell_type": "code",
      "source": "thistuple = (\"apple\", \"banana\", \"cherry\")\ndel thistuple\nprint(thistuple) #this will raise an error because the tuple no longer exists",
      "metadata": {
        "trusted": true
      },
      "outputs": [
        {
          "ename": "<class 'NameError'>",
          "evalue": "name 'thistuple' is not defined",
          "traceback": [
            "\u001b[0;31m---------------------------------------------------------------------------\u001b[0m",
            "\u001b[0;31mNameError\u001b[0m                                 Traceback (most recent call last)",
            "Cell \u001b[0;32mIn[110], line 3\u001b[0m\n\u001b[1;32m      1\u001b[0m thistuple \u001b[38;5;241m=\u001b[39m (\u001b[38;5;124m\"\u001b[39m\u001b[38;5;124mapple\u001b[39m\u001b[38;5;124m\"\u001b[39m, \u001b[38;5;124m\"\u001b[39m\u001b[38;5;124mbanana\u001b[39m\u001b[38;5;124m\"\u001b[39m, \u001b[38;5;124m\"\u001b[39m\u001b[38;5;124mcherry\u001b[39m\u001b[38;5;124m\"\u001b[39m)\n\u001b[1;32m      2\u001b[0m \u001b[38;5;28;01mdel\u001b[39;00m thistuple\n\u001b[0;32m----> 3\u001b[0m \u001b[38;5;28mprint\u001b[39m(\u001b[43mthistuple\u001b[49m) \u001b[38;5;66;03m#this will raise an error because the tuple no longer exists\u001b[39;00m\n",
            "\u001b[0;31mNameError\u001b[0m: name 'thistuple' is not defined"
          ],
          "output_type": "error"
        }
      ],
      "execution_count": 110
    },
    {
      "id": "985e6666-41e9-4e16-a005-532d336fca0d",
      "cell_type": "code",
      "source": "fruits = (\"apple\", \"banana\", \"cherry\")\nprint(fruits)",
      "metadata": {
        "trusted": true
      },
      "outputs": [
        {
          "name": "stdout",
          "output_type": "stream",
          "text": "('apple', 'banana', 'cherry')\n"
        }
      ],
      "execution_count": 112
    },
    {
      "id": "6142fbb6-c43b-47db-ab6f-b6463128a6a9",
      "cell_type": "code",
      "source": "fruits = (\"apple\", \"banana\", \"cherry\")\n\n(green, yellow, red) = fruits\n\nprint(green)\nprint(yellow)\nprint(red)",
      "metadata": {
        "trusted": true
      },
      "outputs": [
        {
          "name": "stdout",
          "output_type": "stream",
          "text": "apple\nbanana\ncherry\n"
        }
      ],
      "execution_count": 113
    },
    {
      "id": "22ea5437-958a-44bf-97e9-f8c94146ea69",
      "cell_type": "code",
      "source": "thistuple = (\"apple\", \"banana\", \"cherry\")\nfor x in thistuple:\n  print(x)",
      "metadata": {
        "trusted": true
      },
      "outputs": [
        {
          "name": "stdout",
          "output_type": "stream",
          "text": "apple\nbanana\ncherry\n"
        }
      ],
      "execution_count": 114
    },
    {
      "id": "045c6825-fac4-446d-b9cb-0d51513813cb",
      "cell_type": "code",
      "source": "thistuple = (\"apple\", \"banana\", \"cherry\")\nfor i in range(len(thistuple)):\n  print(thistuple[i])",
      "metadata": {
        "trusted": true
      },
      "outputs": [
        {
          "name": "stdout",
          "output_type": "stream",
          "text": "apple\nbanana\ncherry\n"
        }
      ],
      "execution_count": 115
    },
    {
      "id": "a862130e-8fad-42a8-99b5-7d60eca5ceae",
      "cell_type": "code",
      "source": "thistuple = (\"apple\", \"banana\", \"cherry\")\ni = 0\nwhile i < len(thistuple):\n  print(thistuple[i])\n  i = i + 1",
      "metadata": {
        "trusted": true
      },
      "outputs": [
        {
          "name": "stdout",
          "output_type": "stream",
          "text": "apple\nbanana\ncherry\n"
        }
      ],
      "execution_count": 116
    },
    {
      "id": "76d02ee4-e7d6-4910-b276-d5f138f514fd",
      "cell_type": "code",
      "source": "tuple1 = (\"a\", \"b\" , \"c\")\ntuple2 = (1, 2, 3)\n\ntuple3 = tuple1 + tuple2\nprint(tuple3)",
      "metadata": {
        "trusted": true
      },
      "outputs": [
        {
          "name": "stdout",
          "output_type": "stream",
          "text": "('a', 'b', 'c', 1, 2, 3)\n"
        }
      ],
      "execution_count": 117
    },
    {
      "id": "e33f580a-81ac-420a-b79a-691bdf79a93a",
      "cell_type": "code",
      "source": "fruits = (\"apple\", \"banana\", \"cherry\")\nmytuple = fruits * 2\n\nprint(mytuple)",
      "metadata": {
        "trusted": true
      },
      "outputs": [
        {
          "name": "stdout",
          "output_type": "stream",
          "text": "('apple', 'banana', 'cherry', 'apple', 'banana', 'cherry')\n"
        }
      ],
      "execution_count": 118
    },
    {
      "id": "19dfb0df-b71f-43b9-91e7-c92c30523d49",
      "cell_type": "code",
      "source": "thistuple = (1, 3, 7, 8, 7, 5, 4, 6, 8, 5)\n\nx = thistuple.count(5)\n\nprint(x)",
      "metadata": {
        "trusted": true
      },
      "outputs": [
        {
          "name": "stdout",
          "output_type": "stream",
          "text": "2\n"
        }
      ],
      "execution_count": 119
    },
    {
      "id": "b28f7ac8-06cd-4ad5-8e9b-0b7609fe9a8f",
      "cell_type": "code",
      "source": "thistuple = (1, 3, 7, 8, 7, 5, 4, 6, 8, 5)\n\nx = thistuple.index(8)\n\nprint(x)",
      "metadata": {
        "trusted": true
      },
      "outputs": [
        {
          "name": "stdout",
          "output_type": "stream",
          "text": "3\n"
        }
      ],
      "execution_count": 120
    },
    {
      "id": "93cbd84c-2d0e-4860-a866-b46e3cf26f91",
      "cell_type": "code",
      "source": "thisset = {\"apple\", \"banana\", \"cherry\"}\nprint(thisset)",
      "metadata": {
        "trusted": true
      },
      "outputs": [
        {
          "name": "stdout",
          "output_type": "stream",
          "text": "{'apple', 'banana', 'cherry'}\n"
        }
      ],
      "execution_count": 121
    },
    {
      "id": "30a5c0e3-4914-47d4-b67f-5a149403130e",
      "cell_type": "code",
      "source": "thisset = {\"apple\", \"banana\", \"cherry\", \"apple\"}\n\nprint(thisset)",
      "metadata": {
        "trusted": true
      },
      "outputs": [
        {
          "name": "stdout",
          "output_type": "stream",
          "text": "{'apple', 'banana', 'cherry'}\n"
        }
      ],
      "execution_count": 122
    },
    {
      "id": "f67436b6-ac2d-46e3-a257-65d83cc60baf",
      "cell_type": "code",
      "source": "thisset = {\"apple\", \"banana\", \"cherry\", True, 1, 2}\n\nprint(thisset)",
      "metadata": {
        "trusted": true
      },
      "outputs": [
        {
          "name": "stdout",
          "output_type": "stream",
          "text": "{True, 2, 'apple', 'banana', 'cherry'}\n"
        }
      ],
      "execution_count": 123
    },
    {
      "id": "1e4ddd99-ea6d-47cd-a0ec-df3cd3502bb2",
      "cell_type": "code",
      "source": "thisset = {\"apple\", \"banana\", \"cherry\", False, True, 0}\n\nprint(thisset)",
      "metadata": {
        "trusted": true
      },
      "outputs": [
        {
          "name": "stdout",
          "output_type": "stream",
          "text": "{False, True, 'apple', 'banana', 'cherry'}\n"
        }
      ],
      "execution_count": 124
    },
    {
      "id": "a3931765-c06d-4193-91a6-c8251bb3927e",
      "cell_type": "code",
      "source": "thisset = {\"apple\", \"banana\", \"cherry\"}\n\nprint(len(thisset))",
      "metadata": {
        "trusted": true
      },
      "outputs": [
        {
          "name": "stdout",
          "output_type": "stream",
          "text": "3\n"
        }
      ],
      "execution_count": 125
    },
    {
      "id": "9afafd48-7a25-401d-bc7c-3ef408bb3c6a",
      "cell_type": "code",
      "source": "set1 = {\"apple\", \"banana\", \"cherry\"}\nset2 = {1, 5, 7, 9, 3}\nset3 = {True, False, False}",
      "metadata": {
        "trusted": true
      },
      "outputs": [],
      "execution_count": 126
    },
    {
      "id": "888ac1cc-7681-4f36-9f34-2222458613ba",
      "cell_type": "code",
      "source": "set1 = {\"abc\", 34, True, 40, \"male\"}",
      "metadata": {
        "trusted": true
      },
      "outputs": [],
      "execution_count": 127
    },
    {
      "id": "c24d97fd-e7a8-464d-8521-91b83bfc9aa9",
      "cell_type": "code",
      "source": "myset = {\"apple\", \"banana\", \"cherry\"}\nprint(type(myset))",
      "metadata": {
        "trusted": true
      },
      "outputs": [
        {
          "name": "stdout",
          "output_type": "stream",
          "text": "<class 'set'>\n"
        }
      ],
      "execution_count": 128
    },
    {
      "id": "1cbcfb70-9a3f-44dd-9c0e-a2c3bdd2a89d",
      "cell_type": "code",
      "source": "thisset = set((\"apple\", \"banana\", \"cherry\")) # note the double round-brackets\nprint(thisset)",
      "metadata": {
        "trusted": true
      },
      "outputs": [
        {
          "name": "stdout",
          "output_type": "stream",
          "text": "{'apple', 'banana', 'cherry'}\n"
        }
      ],
      "execution_count": 129
    },
    {
      "id": "85df75ee-d717-469d-8c27-bb3e6708d872",
      "cell_type": "code",
      "source": "thisset = {\"apple\", \"banana\", \"cherry\"}\n\nfor x in thisset:\n  print(x)",
      "metadata": {
        "trusted": true
      },
      "outputs": [
        {
          "name": "stdout",
          "output_type": "stream",
          "text": "apple\nbanana\ncherry\n"
        }
      ],
      "execution_count": 130
    },
    {
      "id": "080bd7d6-9b6c-4f0f-8a8b-1d39e0215a57",
      "cell_type": "code",
      "source": "thisset = {\"apple\", \"banana\", \"cherry\"}\n\nprint(\"banana\" in thisset)",
      "metadata": {
        "trusted": true
      },
      "outputs": [
        {
          "name": "stdout",
          "output_type": "stream",
          "text": "True\n"
        }
      ],
      "execution_count": 131
    },
    {
      "id": "ff850317-d671-4ae3-9ee0-d1a1b007719f",
      "cell_type": "code",
      "source": "thisset = {\"apple\", \"banana\", \"cherry\"}\n\nprint(\"banana\" not in thisset)",
      "metadata": {
        "trusted": true
      },
      "outputs": [
        {
          "name": "stdout",
          "output_type": "stream",
          "text": "False\n"
        }
      ],
      "execution_count": 132
    },
    {
      "id": "6d3790f3-7f25-4fe5-bce6-537f531f692c",
      "cell_type": "code",
      "source": "thisset = {\"apple\", \"banana\", \"cherry\"}\n\nthisset.add(\"orange\")\n\nprint(thisset)",
      "metadata": {
        "trusted": true
      },
      "outputs": [
        {
          "name": "stdout",
          "output_type": "stream",
          "text": "{'apple', 'banana', 'cherry', 'orange'}\n"
        }
      ],
      "execution_count": 133
    },
    {
      "id": "b37416a6-2791-4ec0-8a41-79dd0cc4eebf",
      "cell_type": "code",
      "source": "thisset = {\"apple\", \"banana\", \"cherry\"}\ntropical = {\"pineapple\", \"mango\", \"papaya\"}\n\nthisset.update(tropical)\n\nprint(thisset)",
      "metadata": {
        "trusted": true
      },
      "outputs": [
        {
          "name": "stdout",
          "output_type": "stream",
          "text": "{'papaya', 'pineapple', 'mango', 'apple', 'banana', 'cherry'}\n"
        }
      ],
      "execution_count": 134
    },
    {
      "id": "004a8d3d-dd2f-46d8-9c21-3b376201405d",
      "cell_type": "code",
      "source": "thisset = {\"apple\", \"banana\", \"cherry\"}\nmylist = [\"kiwi\", \"orange\"]\n\nthisset.update(mylist)\n\nprint(thisset)",
      "metadata": {
        "trusted": true
      },
      "outputs": [
        {
          "name": "stdout",
          "output_type": "stream",
          "text": "{'apple', 'cherry', 'orange', 'kiwi', 'banana'}\n"
        }
      ],
      "execution_count": 135
    },
    {
      "id": "6571e62e-9cd5-4c22-be7b-30e6f4366bf5",
      "cell_type": "code",
      "source": "thisset = {\"apple\", \"banana\", \"cherry\"}\n\nthisset.remove(\"banana\")\n\nprint(thisset)",
      "metadata": {
        "trusted": true
      },
      "outputs": [
        {
          "name": "stdout",
          "output_type": "stream",
          "text": "{'apple', 'cherry'}\n"
        }
      ],
      "execution_count": 136
    },
    {
      "id": "f6c70bfc-0e61-4571-b2d8-d38d40fadf28",
      "cell_type": "code",
      "source": "thisset = {\"apple\", \"banana\", \"cherry\"}\n\nthisset.discard(\"banana\")\n\nprint(thisset)",
      "metadata": {
        "trusted": true
      },
      "outputs": [
        {
          "name": "stdout",
          "output_type": "stream",
          "text": "{'apple', 'cherry'}\n"
        }
      ],
      "execution_count": 137
    },
    {
      "id": "47217948-a4bf-43aa-8b26-0b60ca2fba60",
      "cell_type": "code",
      "source": "thisset = {\"apple\", \"banana\", \"cherry\"}\n\nx = thisset.pop()\n\nprint(x)\n\nprint(thisset)",
      "metadata": {
        "trusted": true
      },
      "outputs": [
        {
          "name": "stdout",
          "output_type": "stream",
          "text": "apple\n{'banana', 'cherry'}\n"
        }
      ],
      "execution_count": 138
    },
    {
      "id": "9e6378c8-cb8d-4a15-9784-9e1e580fe8d8",
      "cell_type": "code",
      "source": "thisset = {\"apple\", \"banana\", \"cherry\"}\n\nthisset.clear()\n\nprint(thisset)",
      "metadata": {
        "trusted": true
      },
      "outputs": [
        {
          "name": "stdout",
          "output_type": "stream",
          "text": "set()\n"
        }
      ],
      "execution_count": 139
    },
    {
      "id": "aebe8699-a560-4165-a00f-e6ae78f61fc7",
      "cell_type": "code",
      "source": "thisset = {\"apple\", \"banana\", \"cherry\"}\n\ndel thisset\n\nprint(thisset)",
      "metadata": {
        "trusted": true
      },
      "outputs": [
        {
          "ename": "<class 'NameError'>",
          "evalue": "name 'thisset' is not defined",
          "traceback": [
            "\u001b[0;31m---------------------------------------------------------------------------\u001b[0m",
            "\u001b[0;31mNameError\u001b[0m                                 Traceback (most recent call last)",
            "Cell \u001b[0;32mIn[140], line 5\u001b[0m\n\u001b[1;32m      1\u001b[0m thisset \u001b[38;5;241m=\u001b[39m {\u001b[38;5;124m\"\u001b[39m\u001b[38;5;124mapple\u001b[39m\u001b[38;5;124m\"\u001b[39m, \u001b[38;5;124m\"\u001b[39m\u001b[38;5;124mbanana\u001b[39m\u001b[38;5;124m\"\u001b[39m, \u001b[38;5;124m\"\u001b[39m\u001b[38;5;124mcherry\u001b[39m\u001b[38;5;124m\"\u001b[39m}\n\u001b[1;32m      3\u001b[0m \u001b[38;5;28;01mdel\u001b[39;00m thisset\n\u001b[0;32m----> 5\u001b[0m \u001b[38;5;28mprint\u001b[39m(\u001b[43mthisset\u001b[49m)\n",
            "\u001b[0;31mNameError\u001b[0m: name 'thisset' is not defined"
          ],
          "output_type": "error"
        }
      ],
      "execution_count": 140
    },
    {
      "id": "15ed3717-80dd-4bd4-a981-29072fcae906",
      "cell_type": "code",
      "source": "thisset = {\"apple\", \"banana\", \"cherry\"}\n\nfor x in thisset:\n  print(x)",
      "metadata": {
        "trusted": true
      },
      "outputs": [
        {
          "name": "stdout",
          "output_type": "stream",
          "text": "apple\nbanana\ncherry\n"
        }
      ],
      "execution_count": 141
    },
    {
      "id": "cf03ceb8-c04c-4f1b-b641-9f1ca900883f",
      "cell_type": "code",
      "source": "set1 = {\"a\", \"b\", \"c\"}\nset2 = {1, 2, 3}\n\nset3 = set1.union(set2)\nprint(set3)",
      "metadata": {
        "trusted": true
      },
      "outputs": [
        {
          "name": "stdout",
          "output_type": "stream",
          "text": "{1, 2, 3, 'a', 'b', 'c'}\n"
        }
      ],
      "execution_count": 142
    },
    {
      "id": "a75252ab-cb05-42d2-bc11-98d109835e14",
      "cell_type": "code",
      "source": "set1 = {\"a\", \"b\", \"c\"}\nset2 = {1, 2, 3}\n\nset3 = set1 | set2\nprint(set3)",
      "metadata": {
        "trusted": true
      },
      "outputs": [
        {
          "name": "stdout",
          "output_type": "stream",
          "text": "{1, 2, 3, 'a', 'b', 'c'}\n"
        }
      ],
      "execution_count": 143
    },
    {
      "id": "f58f363c-861d-45b9-857d-02ae42318b2a",
      "cell_type": "code",
      "source": "set1 = {\"a\", \"b\", \"c\"}\nset2 = {1, 2, 3}\nset3 = {\"John\", \"Elena\"}\nset4 = {\"apple\", \"bananas\", \"cherry\"}\n\nmyset = set1.union(set2, set3, set4)\nprint(myset)",
      "metadata": {
        "trusted": true
      },
      "outputs": [
        {
          "name": "stdout",
          "output_type": "stream",
          "text": "{'bananas', 1, 2, 3, 'apple', 'cherry', 'Elena', 'John', 'a', 'b', 'c'}\n"
        }
      ],
      "execution_count": 144
    },
    {
      "id": "3b9213e6-47a5-44cb-8db5-d6530b866112",
      "cell_type": "code",
      "source": "set1 = {\"a\", \"b\", \"c\"}\nset2 = {1, 2, 3}\nset3 = {\"John\", \"Elena\"}\nset4 = {\"apple\", \"bananas\", \"cherry\"}\n\nmyset = set1 | set2 | set3 |set4\nprint(myset)",
      "metadata": {
        "trusted": true
      },
      "outputs": [
        {
          "name": "stdout",
          "output_type": "stream",
          "text": "{'bananas', 1, 2, 3, 'apple', 'cherry', 'Elena', 'John', 'a', 'b', 'c'}\n"
        }
      ],
      "execution_count": 145
    },
    {
      "id": "a488d315-9ad0-4871-936c-5bfc8771f946",
      "cell_type": "code",
      "source": "x = {\"a\", \"b\", \"c\"}\ny = (1, 2, 3)\n\nz = x.union(y)\nprint(z)",
      "metadata": {
        "trusted": true
      },
      "outputs": [
        {
          "name": "stdout",
          "output_type": "stream",
          "text": "{1, 2, 3, 'a', 'b', 'c'}\n"
        }
      ],
      "execution_count": 146
    },
    {
      "id": "e103cffc-8231-4fa3-88c2-ef1a6dd42633",
      "cell_type": "code",
      "source": "set1 = {\"a\", \"b\" , \"c\"}\nset2 = {1, 2, 3}\n\nset1.update(set2)\nprint(set1)",
      "metadata": {
        "trusted": true
      },
      "outputs": [
        {
          "name": "stdout",
          "output_type": "stream",
          "text": "{1, 2, 3, 'a', 'b', 'c'}\n"
        }
      ],
      "execution_count": 147
    },
    {
      "id": "c88bfda0-be6d-4213-b7dd-aec5daa5a335",
      "cell_type": "code",
      "source": "set1 = {\"apple\", \"banana\", \"cherry\"}\nset2 = {\"google\", \"microsoft\", \"apple\"}\n\nset3 = set1.intersection(set2)\nprint(set3)",
      "metadata": {
        "trusted": true
      },
      "outputs": [
        {
          "name": "stdout",
          "output_type": "stream",
          "text": "{'apple'}\n"
        }
      ],
      "execution_count": 148
    },
    {
      "id": "33249200-8df3-47d5-aed2-f5261ab77938",
      "cell_type": "code",
      "source": "set1 = {\"apple\", \"banana\", \"cherry\"}\nset2 = {\"google\", \"microsoft\", \"apple\"}\n\nset3 = set1 & set2\nprint(set3)",
      "metadata": {
        "trusted": true
      },
      "outputs": [
        {
          "name": "stdout",
          "output_type": "stream",
          "text": "{'apple'}\n"
        }
      ],
      "execution_count": 149
    },
    {
      "id": "755baceb-4400-4dfd-975c-8b1b4b127941",
      "cell_type": "code",
      "source": "set1 = {\"apple\", \"banana\", \"cherry\"}\nset2 = {\"google\", \"microsoft\", \"apple\"}\n\nset1.intersection_update(set2)\n\nprint(set1)",
      "metadata": {
        "trusted": true
      },
      "outputs": [
        {
          "name": "stdout",
          "output_type": "stream",
          "text": "{'apple'}\n"
        }
      ],
      "execution_count": 150
    },
    {
      "id": "23c18935-db3e-4a1e-a6e7-4716313cf392",
      "cell_type": "code",
      "source": "set1 = {\"apple\", 1,  \"banana\", 0, \"cherry\"}\nset2 = {False, \"google\", 1, \"apple\", 2, True}\n\nset3 = set1.intersection(set2)\n\nprint(set3)",
      "metadata": {
        "trusted": true
      },
      "outputs": [
        {
          "name": "stdout",
          "output_type": "stream",
          "text": "{False, 1, 'apple'}\n"
        }
      ],
      "execution_count": 151
    },
    {
      "id": "3fc6e0f7-c937-433b-858b-193351478ea1",
      "cell_type": "code",
      "source": "set1 = {\"apple\", \"banana\", \"cherry\"}\nset2 = {\"google\", \"microsoft\", \"apple\"}\n\nset3 = set1.difference(set2)\n\nprint(set3)",
      "metadata": {
        "trusted": true
      },
      "outputs": [
        {
          "name": "stdout",
          "output_type": "stream",
          "text": "{'banana', 'cherry'}\n"
        }
      ],
      "execution_count": 152
    },
    {
      "id": "177ad8bb-5ef8-41c5-98f4-e57e49b2b958",
      "cell_type": "code",
      "source": "set1 = {\"apple\", \"banana\", \"cherry\"}\nset2 = {\"google\", \"microsoft\", \"apple\"}\n\nset3 = set1 - set2\nprint(set3)",
      "metadata": {
        "trusted": true
      },
      "outputs": [
        {
          "name": "stdout",
          "output_type": "stream",
          "text": "{'banana', 'cherry'}\n"
        }
      ],
      "execution_count": 153
    },
    {
      "id": "6fb9c9be-cfe0-4ae8-ad48-ad00e790bf91",
      "cell_type": "code",
      "source": "set1 = {\"apple\", \"banana\", \"cherry\"}\nset2 = {\"google\", \"microsoft\", \"apple\"}\n\nset1.difference_update(set2)\n\nprint(set1)",
      "metadata": {
        "trusted": true
      },
      "outputs": [
        {
          "name": "stdout",
          "output_type": "stream",
          "text": "{'banana', 'cherry'}\n"
        }
      ],
      "execution_count": 154
    },
    {
      "id": "97b3ed93-f04b-4690-b763-db975e43d461",
      "cell_type": "code",
      "source": "set1 = {\"apple\", \"banana\", \"cherry\"}\nset2 = {\"google\", \"microsoft\", \"apple\"}\n\nset3 = set1.symmetric_difference(set2)\n\nprint(set3)",
      "metadata": {
        "trusted": true
      },
      "outputs": [
        {
          "name": "stdout",
          "output_type": "stream",
          "text": "{'google', 'microsoft', 'cherry', 'banana'}\n"
        }
      ],
      "execution_count": 155
    },
    {
      "id": "8a5be795-ebbc-4117-bcfe-8dc23d5f33c2",
      "cell_type": "code",
      "source": "set1 = {\"apple\", \"banana\", \"cherry\"}\nset2 = {\"google\", \"microsoft\", \"apple\"}\n\nset3 = set1 ^ set2\nprint(set3)",
      "metadata": {
        "trusted": true
      },
      "outputs": [
        {
          "name": "stdout",
          "output_type": "stream",
          "text": "{'google', 'microsoft', 'cherry', 'banana'}\n"
        }
      ],
      "execution_count": 156
    },
    {
      "id": "ec8dd632-e132-49c4-adbc-cf60fc195d70",
      "cell_type": "code",
      "source": "set1 = {\"apple\", \"banana\", \"cherry\"}\nset2 = {\"google\", \"microsoft\", \"apple\"}\n\nset1.symmetric_difference_update(set2)\n\nprint(set1)",
      "metadata": {
        "trusted": true
      },
      "outputs": [
        {
          "name": "stdout",
          "output_type": "stream",
          "text": "{'google', 'microsoft', 'cherry', 'banana'}\n"
        }
      ],
      "execution_count": 157
    },
    {
      "id": "385b55ba-dc66-4cd2-9aa1-fb16ac64c4b1",
      "cell_type": "code",
      "source": "thisdict = {\n  \"brand\": \"Ford\",\n  \"model\": \"Mustang\",\n  \"year\": 1964\n}\nprint(thisdict)",
      "metadata": {
        "trusted": true
      },
      "outputs": [
        {
          "name": "stdout",
          "output_type": "stream",
          "text": "{'brand': 'Ford', 'model': 'Mustang', 'year': 1964}\n"
        }
      ],
      "execution_count": 158
    },
    {
      "id": "04f242aa-10c4-4e22-9a9a-bd96453f46d8",
      "cell_type": "code",
      "source": "thisdict = {\n  \"brand\": \"Ford\",\n  \"model\": \"Mustang\",\n  \"year\": 1964\n}\nprint(thisdict[\"brand\"])",
      "metadata": {
        "trusted": true
      },
      "outputs": [
        {
          "name": "stdout",
          "output_type": "stream",
          "text": "Ford\n"
        }
      ],
      "execution_count": 159
    },
    {
      "id": "ccb34ecc-8952-47c4-b170-afe8c3ec1883",
      "cell_type": "code",
      "source": "thisdict = {\n  \"brand\": \"Ford\",\n  \"model\": \"Mustang\",\n  \"year\": 1964,\n  \"year\": 2020\n}\nprint(thisdict)",
      "metadata": {
        "trusted": true
      },
      "outputs": [
        {
          "name": "stdout",
          "output_type": "stream",
          "text": "{'brand': 'Ford', 'model': 'Mustang', 'year': 2020}\n"
        }
      ],
      "execution_count": 160
    },
    {
      "id": "08b54b38-1ba0-4141-be0c-e6dc58231bd9",
      "cell_type": "code",
      "source": "print(len(thisdict))",
      "metadata": {
        "trusted": true
      },
      "outputs": [
        {
          "name": "stdout",
          "output_type": "stream",
          "text": "3\n"
        }
      ],
      "execution_count": 161
    },
    {
      "id": "3a452d2b-b09b-4c36-a1bd-0924069c4f7d",
      "cell_type": "code",
      "source": "thisdict = {\n  \"brand\": \"Ford\",\n  \"electric\": False,\n  \"year\": 1964,\n  \"colors\": [\"red\", \"white\", \"blue\"]\n}",
      "metadata": {
        "trusted": true
      },
      "outputs": [],
      "execution_count": 162
    },
    {
      "id": "87554b14-0867-438d-b2a0-a2f59c6b1c55",
      "cell_type": "code",
      "source": "thisdict = {\n  \"brand\": \"Ford\",\n  \"model\": \"Mustang\",\n  \"year\": 1964\n}\nprint(type(thisdict))",
      "metadata": {
        "trusted": true
      },
      "outputs": [
        {
          "name": "stdout",
          "output_type": "stream",
          "text": "<class 'dict'>\n"
        }
      ],
      "execution_count": 163
    },
    {
      "id": "106b2272-2f5f-43fb-ac12-fbcc00fcaee4",
      "cell_type": "code",
      "source": "thisdict = dict(name = \"John\", age = 36, country = \"Norway\")\nprint(thisdict)",
      "metadata": {
        "trusted": true
      },
      "outputs": [
        {
          "name": "stdout",
          "output_type": "stream",
          "text": "{'name': 'John', 'age': 36, 'country': 'Norway'}\n"
        }
      ],
      "execution_count": 164
    },
    {
      "id": "2aee95fa-c1e2-4539-bf62-118deef1d309",
      "cell_type": "code",
      "source": "thisdict = {\n  \"brand\": \"Ford\",\n  \"model\": \"Mustang\",\n  \"year\": 1964\n}\nx = thisdict[\"model\"]\nprint(x)",
      "metadata": {
        "trusted": true
      },
      "outputs": [
        {
          "name": "stdout",
          "output_type": "stream",
          "text": "Mustang\n"
        }
      ],
      "execution_count": 166
    },
    {
      "id": "70f1c7d4-0ffa-43be-87ce-bd1ca2e26ad9",
      "cell_type": "code",
      "source": "x = thisdict.get(\"model\")\nprint(x)\n",
      "metadata": {
        "trusted": true
      },
      "outputs": [
        {
          "name": "stdout",
          "output_type": "stream",
          "text": "Mustang\n"
        }
      ],
      "execution_count": 167
    },
    {
      "id": "b410e163-2d1e-4f8b-9b70-c8f962adb151",
      "cell_type": "code",
      "source": "x = thisdict.keys()\nprint(x)",
      "metadata": {
        "trusted": true
      },
      "outputs": [
        {
          "name": "stdout",
          "output_type": "stream",
          "text": "dict_keys(['brand', 'model', 'year'])\n"
        }
      ],
      "execution_count": 169
    },
    {
      "id": "e43e36a7-ba63-4c2a-9eb0-6128bf05ee68",
      "cell_type": "code",
      "source": "car = {\n\"brand\": \"Ford\",\n\"model\": \"Mustang\",\n\"year\": 1964\n}\n\nx = car.keys()\n\nprint(x) #before the change\n\ncar[\"color\"] = \"white\"\n\nprint(x) #after the change",
      "metadata": {
        "trusted": true
      },
      "outputs": [
        {
          "name": "stdout",
          "output_type": "stream",
          "text": "dict_keys(['brand', 'model', 'year'])\ndict_keys(['brand', 'model', 'year', 'color'])\n"
        }
      ],
      "execution_count": 170
    },
    {
      "id": "7e93c8a1-4dfa-40bb-8d20-8d88f0911596",
      "cell_type": "code",
      "source": "x = thisdict.values()\nprint(x)",
      "metadata": {
        "trusted": true
      },
      "outputs": [
        {
          "name": "stdout",
          "output_type": "stream",
          "text": "dict_values(['Ford', 'Mustang', 1964])\n"
        }
      ],
      "execution_count": 172
    },
    {
      "id": "0afbaf3e-1ccc-46cd-af52-f73548b143c1",
      "cell_type": "code",
      "source": "car = {\n\"brand\": \"Ford\",\n\"model\": \"Mustang\",\n\"year\": 1964\n}\n\nx = car.values()\n\nprint(x) #before the change\n\ncar[\"year\"] = 2020\n\nprint(x) #after the change",
      "metadata": {
        "trusted": true
      },
      "outputs": [
        {
          "name": "stdout",
          "output_type": "stream",
          "text": "dict_values(['Ford', 'Mustang', 1964])\ndict_values(['Ford', 'Mustang', 2020])\n"
        }
      ],
      "execution_count": 173
    },
    {
      "id": "e8b8be2f-fc1e-4317-b9e6-7c3fc939c5ec",
      "cell_type": "code",
      "source": "car = {\n\"brand\": \"Ford\",\n\"model\": \"Mustang\",\n\"year\": 1964\n}\n\nx = car.values()\n\nprint(x) #before the change\n\ncar[\"color\"] = \"red\"\n\nprint(x) #after the change",
      "metadata": {
        "trusted": true
      },
      "outputs": [
        {
          "name": "stdout",
          "output_type": "stream",
          "text": "dict_values(['Ford', 'Mustang', 1964])\ndict_values(['Ford', 'Mustang', 1964, 'red'])\n"
        }
      ],
      "execution_count": 174
    },
    {
      "id": "fe07d63a-9e72-46e6-a238-0d61aef7c639",
      "cell_type": "code",
      "source": "x = thisdict.items()\nprint(x)",
      "metadata": {
        "trusted": true
      },
      "outputs": [
        {
          "name": "stdout",
          "output_type": "stream",
          "text": "dict_items([('brand', 'Ford'), ('model', 'Mustang'), ('year', 1964)])\n"
        }
      ],
      "execution_count": 175
    },
    {
      "id": "cda81ec2-c863-4399-9145-34c5603c3a4d",
      "cell_type": "code",
      "source": "car = {\n\"brand\": \"Ford\",\n\"model\": \"Mustang\",\n\"year\": 1964\n}\n\nx = car.items()\n\nprint(x) #before the change\n\ncar[\"year\"] = 2020\n\nprint(x) #after the change",
      "metadata": {
        "trusted": true
      },
      "outputs": [
        {
          "name": "stdout",
          "output_type": "stream",
          "text": "dict_items([('brand', 'Ford'), ('model', 'Mustang'), ('year', 1964)])\ndict_items([('brand', 'Ford'), ('model', 'Mustang'), ('year', 2020)])\n"
        }
      ],
      "execution_count": 176
    },
    {
      "id": "16ccb38b-17b0-45b3-a349-559cb70c2ae9",
      "cell_type": "code",
      "source": "car = {\n\"brand\": \"Ford\",\n\"model\": \"Mustang\",\n\"year\": 1964\n}\n\nx = car.items()\n\nprint(x) #before the change\n\ncar[\"color\"] = \"red\"\n\nprint(x) #after the change",
      "metadata": {
        "trusted": true
      },
      "outputs": [
        {
          "name": "stdout",
          "output_type": "stream",
          "text": "dict_items([('brand', 'Ford'), ('model', 'Mustang'), ('year', 1964)])\ndict_items([('brand', 'Ford'), ('model', 'Mustang'), ('year', 1964), ('color', 'red')])\n"
        }
      ],
      "execution_count": 177
    },
    {
      "id": "647808da-dcc8-4660-bb19-47b851d3b3bc",
      "cell_type": "code",
      "source": "",
      "metadata": {
        "trusted": true
      },
      "outputs": [],
      "execution_count": null
    },
    {
      "id": "12ad4a08-ada9-43e7-8757-bc2dc68ca4f4",
      "cell_type": "code",
      "source": "thisdict = {\n  \"brand\": \"Ford\",\n  \"model\": \"Mustang\",\n  \"year\": 1964\n}\nif \"model\" in thisdict:\n  print(\"Yes, 'model' is one of the keys in the thisdict dictionary\")",
      "metadata": {
        "trusted": true
      },
      "outputs": [
        {
          "name": "stdout",
          "output_type": "stream",
          "text": "Yes, 'model' is one of the keys in the thisdict dictionary\n"
        }
      ],
      "execution_count": 178
    },
    {
      "id": "d589b6e2-3195-4769-9ad0-2f93fe729176",
      "cell_type": "code",
      "source": "thisdict = {\n  \"brand\": \"Ford\",\n  \"model\": \"Mustang\",\n  \"year\": 1964\n}\nthisdict[\"year\"] = 2018\nprint(thisdict)",
      "metadata": {
        "trusted": true
      },
      "outputs": [
        {
          "name": "stdout",
          "output_type": "stream",
          "text": "{'brand': 'Ford', 'model': 'Mustang', 'year': 2018}\n"
        }
      ],
      "execution_count": 179
    },
    {
      "id": "665dbc17-501d-482c-a189-22167de04d32",
      "cell_type": "code",
      "source": "thisdict = {\n  \"brand\": \"Ford\",\n  \"model\": \"Mustang\",\n  \"year\": 1964\n}\nthisdict.update({\"year\": 2020})\nprint(thisdict)",
      "metadata": {
        "trusted": true
      },
      "outputs": [
        {
          "name": "stdout",
          "output_type": "stream",
          "text": "{'brand': 'Ford', 'model': 'Mustang', 'year': 2020}\n"
        }
      ],
      "execution_count": 180
    },
    {
      "id": "fc658f3d-0cd4-43af-bd22-418ba98225de",
      "cell_type": "code",
      "source": "thisdict = {\n  \"brand\": \"Ford\",\n  \"model\": \"Mustang\",\n  \"year\": 1964\n}\nthisdict[\"color\"] = \"red\"\nprint(thisdict)",
      "metadata": {
        "trusted": true
      },
      "outputs": [
        {
          "name": "stdout",
          "output_type": "stream",
          "text": "{'brand': 'Ford', 'model': 'Mustang', 'year': 1964, 'color': 'red'}\n"
        }
      ],
      "execution_count": 181
    },
    {
      "id": "de66d978-f6bd-4b75-bd9d-638049054548",
      "cell_type": "code",
      "source": "thisdict = {\n  \"brand\": \"Ford\",\n  \"model\": \"Mustang\",\n  \"year\": 1964\n}\nthisdict.update({\"color\": \"red\"})\nprint(thisdict)",
      "metadata": {
        "trusted": true
      },
      "outputs": [
        {
          "name": "stdout",
          "output_type": "stream",
          "text": "{'brand': 'Ford', 'model': 'Mustang', 'year': 1964, 'color': 'red'}\n"
        }
      ],
      "execution_count": 183
    },
    {
      "id": "d7d5aee4-a0a1-4422-92c5-b933a8a773b1",
      "cell_type": "code",
      "source": "thisdict = {\n  \"brand\": \"Ford\",\n  \"model\": \"Mustang\",\n  \"year\": 1964\n}\nthisdict.pop(\"model\")\nprint(thisdict)",
      "metadata": {
        "trusted": true
      },
      "outputs": [
        {
          "name": "stdout",
          "output_type": "stream",
          "text": "{'brand': 'Ford', 'year': 1964}\n"
        }
      ],
      "execution_count": 184
    },
    {
      "id": "bc648098-8cdd-4c85-a11a-2d06f9c86f35",
      "cell_type": "code",
      "source": "thisdict = {\n  \"brand\": \"Ford\",\n  \"model\": \"Mustang\",\n  \"year\": 1964\n}\nthisdict.popitem()\nprint(thisdict)",
      "metadata": {
        "trusted": true
      },
      "outputs": [
        {
          "name": "stdout",
          "output_type": "stream",
          "text": "{'brand': 'Ford', 'model': 'Mustang'}\n"
        }
      ],
      "execution_count": 185
    },
    {
      "id": "0a9526e5-e1b9-46e5-a74d-cbb58550c83b",
      "cell_type": "code",
      "source": "thisdict = {\n  \"brand\": \"Ford\",\n  \"model\": \"Mustang\",\n  \"year\": 1964\n}\ndel thisdict[\"model\"]\nprint(thisdict)",
      "metadata": {
        "trusted": true
      },
      "outputs": [
        {
          "name": "stdout",
          "output_type": "stream",
          "text": "{'brand': 'Ford', 'year': 1964}\n"
        }
      ],
      "execution_count": 186
    },
    {
      "id": "dbd9a33d-4463-45a0-890d-8fcb095e85a1",
      "cell_type": "code",
      "source": "thisdict = {\n  \"brand\": \"Ford\",\n  \"model\": \"Mustang\",\n  \"year\": 1964\n}\ndel thisdict\nprint(thisdict) #this will cause an error because \"thisdict\" no longer exists.",
      "metadata": {
        "trusted": true
      },
      "outputs": [
        {
          "ename": "<class 'NameError'>",
          "evalue": "name 'thisdict' is not defined",
          "traceback": [
            "\u001b[0;31m---------------------------------------------------------------------------\u001b[0m",
            "\u001b[0;31mNameError\u001b[0m                                 Traceback (most recent call last)",
            "Cell \u001b[0;32mIn[187], line 7\u001b[0m\n\u001b[1;32m      1\u001b[0m thisdict \u001b[38;5;241m=\u001b[39m {\n\u001b[1;32m      2\u001b[0m   \u001b[38;5;124m\"\u001b[39m\u001b[38;5;124mbrand\u001b[39m\u001b[38;5;124m\"\u001b[39m: \u001b[38;5;124m\"\u001b[39m\u001b[38;5;124mFord\u001b[39m\u001b[38;5;124m\"\u001b[39m,\n\u001b[1;32m      3\u001b[0m   \u001b[38;5;124m\"\u001b[39m\u001b[38;5;124mmodel\u001b[39m\u001b[38;5;124m\"\u001b[39m: \u001b[38;5;124m\"\u001b[39m\u001b[38;5;124mMustang\u001b[39m\u001b[38;5;124m\"\u001b[39m,\n\u001b[1;32m      4\u001b[0m   \u001b[38;5;124m\"\u001b[39m\u001b[38;5;124myear\u001b[39m\u001b[38;5;124m\"\u001b[39m: \u001b[38;5;241m1964\u001b[39m\n\u001b[1;32m      5\u001b[0m }\n\u001b[1;32m      6\u001b[0m \u001b[38;5;28;01mdel\u001b[39;00m thisdict\n\u001b[0;32m----> 7\u001b[0m \u001b[38;5;28mprint\u001b[39m(\u001b[43mthisdict\u001b[49m) \u001b[38;5;66;03m#this will cause an error because \"thisdict\" no longer exists.\u001b[39;00m\n",
            "\u001b[0;31mNameError\u001b[0m: name 'thisdict' is not defined"
          ],
          "output_type": "error"
        }
      ],
      "execution_count": 187
    },
    {
      "id": "2f843f99-0c9f-4333-88ba-f7da5e41fc11",
      "cell_type": "code",
      "source": "thisdict = {\n  \"brand\": \"Ford\",\n  \"model\": \"Mustang\",\n  \"year\": 1964\n}\nthisdict.clear()\nprint(thisdict)",
      "metadata": {
        "trusted": true
      },
      "outputs": [
        {
          "name": "stdout",
          "output_type": "stream",
          "text": "{}\n"
        }
      ],
      "execution_count": 188
    },
    {
      "id": "5d2c4a6b-e575-4ba6-8ab7-ba193a44db0e",
      "cell_type": "code",
      "source": "thisdict = {\n  \"brand\": \"Ford\",\n  \"model\": \"Mustang\",\n  \"year\": 1964\n}\nfor x in thisdict:\n  print(x)",
      "metadata": {
        "trusted": true
      },
      "outputs": [
        {
          "name": "stdout",
          "output_type": "stream",
          "text": "brand\nmodel\nyear\n"
        }
      ],
      "execution_count": 192
    },
    {
      "id": "9bf9eb50-9b02-4d01-ad8e-dfcffcb9fc4a",
      "cell_type": "code",
      "source": "thisdict = {\n  \"brand\": \"Ford\",\n  \"model\": \"Mustang\",\n  \"year\": 1964\n}\nfor x in thisdict:\n  print(thisdict[x])",
      "metadata": {
        "trusted": true
      },
      "outputs": [
        {
          "name": "stdout",
          "output_type": "stream",
          "text": "Ford\nMustang\n1964\n"
        }
      ],
      "execution_count": 193
    },
    {
      "id": "3e4d7df7-a4f2-4daf-8c9d-2f83e26f5d4a",
      "cell_type": "code",
      "source": "thisdict = {\n  \"brand\": \"Ford\",\n  \"model\": \"Mustang\",\n  \"year\": 1964\n}\nfor x in thisdict.values():\n  print(x)",
      "metadata": {
        "trusted": true
      },
      "outputs": [
        {
          "name": "stdout",
          "output_type": "stream",
          "text": "Ford\nMustang\n1964\n"
        }
      ],
      "execution_count": 194
    },
    {
      "id": "88b87628-5348-4fad-a17f-0b645b9e6147",
      "cell_type": "code",
      "source": "thisdict = {\n  \"brand\": \"Ford\",\n  \"model\": \"Mustang\",\n  \"year\": 1964\n}\nfor x in thisdict.keys():\n  print(x)",
      "metadata": {
        "trusted": true
      },
      "outputs": [
        {
          "name": "stdout",
          "output_type": "stream",
          "text": "brand\nmodel\nyear\n"
        }
      ],
      "execution_count": 195
    },
    {
      "id": "7bd9a270-e7c5-4079-ac61-be34c6ea08cf",
      "cell_type": "code",
      "source": "thisdict = {\n  \"brand\": \"Ford\",\n  \"model\": \"Mustang\",\n  \"year\": 1964\n}\nfor x, y in thisdict.items():\n  print(x, y)",
      "metadata": {
        "trusted": true
      },
      "outputs": [
        {
          "name": "stdout",
          "output_type": "stream",
          "text": "brand Ford\nmodel Mustang\nyear 1964\n"
        }
      ],
      "execution_count": 196
    },
    {
      "id": "e64e97ca-fe5f-4356-b753-89666b90409a",
      "cell_type": "code",
      "source": "thisdict = {\n  \"brand\": \"Ford\",\n  \"model\": \"Mustang\",\n  \"year\": 1964\n}\nmydict = thisdict.copy()\nprint(mydict)",
      "metadata": {
        "trusted": true
      },
      "outputs": [
        {
          "name": "stdout",
          "output_type": "stream",
          "text": "{'brand': 'Ford', 'model': 'Mustang', 'year': 1964}\n"
        }
      ],
      "execution_count": 197
    },
    {
      "id": "2097b155-d767-48a0-aac7-6fa2e91a186f",
      "cell_type": "code",
      "source": "thisdict = {\n  \"brand\": \"Ford\",\n  \"model\": \"Mustang\",\n  \"year\": 1964\n}\nmydict = dict(thisdict)\nprint(mydict)",
      "metadata": {
        "trusted": true
      },
      "outputs": [
        {
          "name": "stdout",
          "output_type": "stream",
          "text": "{'brand': 'Ford', 'model': 'Mustang', 'year': 1964}\n"
        }
      ],
      "execution_count": 198
    },
    {
      "id": "d7f18020-f3f2-4f73-961f-810abd463e96",
      "cell_type": "code",
      "source": "myfamily = {\n  \"child1\" : {\n    \"name\" : \"Emil\",\n    \"year\" : 2004\n  },\n  \"child2\" : {\n    \"name\" : \"Tobias\",\n    \"year\" : 2007\n  },\n  \"child3\" : {\n    \"name\" : \"Linus\",\n    \"year\" : 2011\n  }\n}\nprint(myfamily)",
      "metadata": {
        "trusted": true
      },
      "outputs": [
        {
          "name": "stdout",
          "output_type": "stream",
          "text": "{'child1': {'name': 'Emil', 'year': 2004}, 'child2': {'name': 'Tobias', 'year': 2007}, 'child3': {'name': 'Linus', 'year': 2011}}\n"
        }
      ],
      "execution_count": 200
    },
    {
      "id": "988898ce-5c00-4adb-b717-0c29c84fd82e",
      "cell_type": "code",
      "source": "child1 = {\n  \"name\" : \"Emil\",\n  \"year\" : 2004\n}\nchild2 = {\n  \"name\" : \"Tobias\",\n  \"year\" : 2007\n}\nchild3 = {\n  \"name\" : \"Linus\",\n  \"year\" : 2011\n}\n\nmyfamily = {\n  \"child1\" : child1,\n  \"child2\" : child2,\n  \"child3\" : child3\n}\nprint(myfamily)",
      "metadata": {
        "trusted": true
      },
      "outputs": [
        {
          "name": "stdout",
          "output_type": "stream",
          "text": "{'child1': {'name': 'Emil', 'year': 2004}, 'child2': {'name': 'Tobias', 'year': 2007}, 'child3': {'name': 'Linus', 'year': 2011}}\n"
        }
      ],
      "execution_count": 201
    },
    {
      "id": "6d02a38a-3aa7-4235-bd70-b6f3984a90da",
      "cell_type": "code",
      "source": "print(myfamily[\"child2\"][\"name\"])",
      "metadata": {
        "trusted": true
      },
      "outputs": [
        {
          "name": "stdout",
          "output_type": "stream",
          "text": "Tobias\n"
        }
      ],
      "execution_count": 202
    },
    {
      "id": "b0a9fe57-bfc8-4bac-b5e1-4dd7e60b4688",
      "cell_type": "code",
      "source": "for x, obj in myfamily.items():\n  print(x)\n\n  for y in obj:\n    print(y + ':', obj[y])",
      "metadata": {
        "trusted": true
      },
      "outputs": [
        {
          "name": "stdout",
          "output_type": "stream",
          "text": "child1\nname: Emil\nyear: 2004\nchild2\nname: Tobias\nyear: 2007\nchild3\nname: Linus\nyear: 2011\n"
        }
      ],
      "execution_count": 203
    },
    {
      "id": "dc98496b-e0c8-45c5-9608-b2cb611a12ed",
      "cell_type": "code",
      "source": "car = {\n  \"brand\": \"Ford\",\n  \"model\": \"Mustang\",\n  \"year\": 1964\n}\n\ncar.clear()\n\nprint(car)",
      "metadata": {
        "trusted": true
      },
      "outputs": [
        {
          "name": "stdout",
          "output_type": "stream",
          "text": "{}\n"
        }
      ],
      "execution_count": 204
    },
    {
      "id": "53d1ba31-eb1a-4f0f-a9d5-be805e0ebf11",
      "cell_type": "code",
      "source": "car = {\n  \"brand\": \"Ford\",\n  \"model\": \"Mustang\",\n  \"year\": 1964\n}\n\nx = car.copy()\n\nprint(x)",
      "metadata": {
        "trusted": true
      },
      "outputs": [
        {
          "name": "stdout",
          "output_type": "stream",
          "text": "{'brand': 'Ford', 'model': 'Mustang', 'year': 1964}\n"
        }
      ],
      "execution_count": 205
    },
    {
      "id": "31fcbb1e-d5ca-4cfe-a00a-1bdb1d85bccd",
      "cell_type": "code",
      "source": "x = ('key1', 'key2', 'key3')\ny = 0\n\nthisdict = dict.fromkeys(x, y)\n\nprint(thisdict)",
      "metadata": {
        "trusted": true
      },
      "outputs": [
        {
          "name": "stdout",
          "output_type": "stream",
          "text": "{'key1': 0, 'key2': 0, 'key3': 0}\n"
        }
      ],
      "execution_count": 206
    },
    {
      "id": "8f6b6736-4c91-41fb-968b-d2348729441d",
      "cell_type": "code",
      "source": "car = {\n  \"brand\": \"Ford\",\n  \"model\": \"Mustang\",\n  \"year\": 1964\n}\n\nx = car.get(\"model\")\n\nprint(x)",
      "metadata": {
        "trusted": true
      },
      "outputs": [
        {
          "name": "stdout",
          "output_type": "stream",
          "text": "Mustang\n"
        }
      ],
      "execution_count": 207
    },
    {
      "id": "ecb268d6-5801-4d27-b839-4521e696531a",
      "cell_type": "code",
      "source": "car = {\n  \"brand\": \"Ford\",\n  \"model\": \"Mustang\",\n  \"year\": 1964\n}\n\nx = car.items()\n\nprint(x)",
      "metadata": {
        "trusted": true
      },
      "outputs": [
        {
          "name": "stdout",
          "output_type": "stream",
          "text": "dict_items([('brand', 'Ford'), ('model', 'Mustang'), ('year', 1964)])\n"
        }
      ],
      "execution_count": 208
    },
    {
      "id": "575e76e9-3db2-4a4b-a819-e7a95b9165db",
      "cell_type": "code",
      "source": "car = {\n  \"brand\": \"Ford\",\n  \"model\": \"Mustang\",\n  \"year\": 1964\n}\n\nx = car.keys()\n\nprint(x)",
      "metadata": {
        "trusted": true
      },
      "outputs": [
        {
          "name": "stdout",
          "output_type": "stream",
          "text": "dict_keys(['brand', 'model', 'year'])\n"
        }
      ],
      "execution_count": 209
    },
    {
      "id": "aa55e771-74ca-456e-8eab-2f89dd9b961d",
      "cell_type": "code",
      "source": "car = {\n  \"brand\": \"Ford\",\n  \"model\": \"Mustang\",\n  \"year\": 1964\n}\n\ncar.pop(\"model\")\n\nprint(car)",
      "metadata": {
        "trusted": true
      },
      "outputs": [
        {
          "name": "stdout",
          "output_type": "stream",
          "text": "{'brand': 'Ford', 'year': 1964}\n"
        }
      ],
      "execution_count": 210
    },
    {
      "id": "fafbcf03-b31d-47ca-be40-c15044c7923e",
      "cell_type": "code",
      "source": "car = {\n  \"brand\": \"Ford\",\n  \"model\": \"Mustang\",\n  \"year\": 1964\n}\n\ncar.popitem()\n\nprint(car)",
      "metadata": {
        "trusted": true
      },
      "outputs": [
        {
          "name": "stdout",
          "output_type": "stream",
          "text": "{'brand': 'Ford', 'model': 'Mustang'}\n"
        }
      ],
      "execution_count": 211
    },
    {
      "id": "e4adc89a-6c4d-43ea-a48c-458b40d6edbe",
      "cell_type": "code",
      "source": "car = {\n  \"brand\": \"Ford\",\n  \"model\": \"Mustang\",\n  \"year\": 1964\n}\n\nx = car.setdefault(\"model\", \"Bronco\")\n\nprint(x)",
      "metadata": {
        "trusted": true
      },
      "outputs": [
        {
          "name": "stdout",
          "output_type": "stream",
          "text": "Mustang\n"
        }
      ],
      "execution_count": 212
    },
    {
      "id": "bd47ea28-1402-48d8-8d8c-d9190acac624",
      "cell_type": "code",
      "source": "car = {\n  \"brand\": \"Ford\",\n  \"model\": \"Mustang\",\n  \"year\": 1964\n}\n\nx = car.setdefault(\"model\", \"Bronco\")\n\nprint(x)",
      "metadata": {
        "trusted": true
      },
      "outputs": [
        {
          "name": "stdout",
          "output_type": "stream",
          "text": "Mustang\n"
        }
      ],
      "execution_count": 213
    },
    {
      "id": "a66985c3-372c-411f-9e53-fd41f85edb19",
      "cell_type": "code",
      "source": "car = {\n  \"brand\": \"Ford\",\n  \"model\": \"Mustang\",\n  \"year\": 1964\n}\n\nx = car.values()\n\nprint(x)",
      "metadata": {
        "trusted": true
      },
      "outputs": [
        {
          "name": "stdout",
          "output_type": "stream",
          "text": "dict_values(['Ford', 'Mustang', 1964])\n"
        }
      ],
      "execution_count": 214
    },
    {
      "id": "d729550e-cd04-45c8-b555-46d5711dafb2",
      "cell_type": "code",
      "source": "a = 33\nb = 200\nif b > a:\n  print(\"b is greater than a\")",
      "metadata": {
        "trusted": true
      },
      "outputs": [
        {
          "name": "stdout",
          "output_type": "stream",
          "text": "b is greater than a\n"
        }
      ],
      "execution_count": 215
    },
    {
      "id": "8f3bb486-5b0f-4673-978e-32a65c52612b",
      "cell_type": "code",
      "source": "a = 33\nb = 200\nif b > a:\nprint(\"b is greater than a\") # you will get an error",
      "metadata": {
        "trusted": true
      },
      "outputs": [
        {
          "ename": "<class 'IndentationError'>",
          "evalue": "expected an indented block after 'if' statement on line 3 (<ipython-input-216-4276c1871af7>, line 4)",
          "traceback": [
            "\u001b[0;36m  Cell \u001b[0;32mIn[216], line 4\u001b[0;36m\u001b[0m\n\u001b[0;31m    print(\"b is greater than a\") # you will get an error\u001b[0m\n\u001b[0m    ^\u001b[0m\n\u001b[0;31mIndentationError\u001b[0m\u001b[0;31m:\u001b[0m expected an indented block after 'if' statement on line 3\n"
          ],
          "output_type": "error"
        }
      ],
      "execution_count": 216
    },
    {
      "id": "791bdf2d-3c4b-410d-996a-717ac5e5a709",
      "cell_type": "code",
      "source": "a = 33\nb = 33\nif b > a:\n  print(\"b is greater than a\")\nelif a == b:\n  print(\"a and b are equal\")",
      "metadata": {
        "trusted": true
      },
      "outputs": [
        {
          "name": "stdout",
          "output_type": "stream",
          "text": "a and b are equal\n"
        }
      ],
      "execution_count": 217
    },
    {
      "id": "a617531f-37d3-49cc-b708-316d16ca97a2",
      "cell_type": "code",
      "source": "a = 200\nb = 33\nif b > a:\n  print(\"b is greater than a\")\nelif a == b:\n  print(\"a and b are equal\")\nelse:\n  print(\"a is greater than b\")",
      "metadata": {
        "trusted": true
      },
      "outputs": [
        {
          "name": "stdout",
          "output_type": "stream",
          "text": "a is greater than b\n"
        }
      ],
      "execution_count": 218
    },
    {
      "id": "c0cfeb33-aca7-4665-adc1-27e6804a244a",
      "cell_type": "code",
      "source": "a = 200\nb = 33\nif b > a:\n  print(\"b is greater than a\")\nelse:\n  print(\"b is not greater than a\")",
      "metadata": {
        "trusted": true
      },
      "outputs": [
        {
          "name": "stdout",
          "output_type": "stream",
          "text": "b is not greater than a\n"
        }
      ],
      "execution_count": 219
    },
    {
      "id": "f5ec714a-61e8-4e7c-b93c-e9310cf34588",
      "cell_type": "code",
      "source": "if a > b: print(\"a is greater than b\")",
      "metadata": {
        "trusted": true
      },
      "outputs": [
        {
          "name": "stdout",
          "output_type": "stream",
          "text": "a is greater than b\n"
        }
      ],
      "execution_count": 220
    },
    {
      "id": "a0898cf7-25ec-486b-96da-29a52fcb55e8",
      "cell_type": "code",
      "source": "a = 2\nb = 330\nprint(\"A\") if a > b else print(\"B\")",
      "metadata": {
        "trusted": true
      },
      "outputs": [
        {
          "name": "stdout",
          "output_type": "stream",
          "text": "B\n"
        }
      ],
      "execution_count": 221
    },
    {
      "id": "243a93a6-8152-47a8-8276-0f08387705b0",
      "cell_type": "code",
      "source": "a = 330\nb = 330\nprint(\"A\") if a > b else print(\"=\") if a == b else print(\"B\")",
      "metadata": {
        "trusted": true
      },
      "outputs": [
        {
          "name": "stdout",
          "output_type": "stream",
          "text": "=\n"
        }
      ],
      "execution_count": 222
    },
    {
      "id": "a2c9b230-1e5a-4b70-acd4-518f89afbd63",
      "cell_type": "code",
      "source": "a = 200\nb = 33\nc = 500\nif a > b and c > a:\n  print(\"Both conditions are True\")",
      "metadata": {
        "trusted": true
      },
      "outputs": [
        {
          "name": "stdout",
          "output_type": "stream",
          "text": "Both conditions are True\n"
        }
      ],
      "execution_count": 223
    },
    {
      "id": "66285f18-2016-4222-8bd6-e6917b0da3ad",
      "cell_type": "code",
      "source": "a = 200\nb = 33\nc = 500\nif a > b or a > c:\n  print(\"At least one of the conditions is True\")",
      "metadata": {
        "trusted": true
      },
      "outputs": [
        {
          "name": "stdout",
          "output_type": "stream",
          "text": "At least one of the conditions is True\n"
        }
      ],
      "execution_count": 224
    },
    {
      "id": "5dc1b0c0-7587-40da-9df1-7866ece38a11",
      "cell_type": "code",
      "source": "a = 33\nb = 200\nif not a > b:\n  print(\"a is NOT greater than b\")",
      "metadata": {
        "trusted": true
      },
      "outputs": [
        {
          "name": "stdout",
          "output_type": "stream",
          "text": "a is NOT greater than b\n"
        }
      ],
      "execution_count": 225
    },
    {
      "id": "afae8a27-e97b-474c-893b-059fc14b0fb1",
      "cell_type": "code",
      "source": "x = 41\n\nif x > 10:\n  print(\"Above ten,\")\n  if x > 20:\n    print(\"and also above 20!\")\n  else:\n    print(\"but not above 20.\")",
      "metadata": {
        "trusted": true
      },
      "outputs": [
        {
          "name": "stdout",
          "output_type": "stream",
          "text": "Above ten,\nand also above 20!\n"
        }
      ],
      "execution_count": 226
    },
    {
      "id": "82b46c40-d4da-4004-8c4c-da6e2dce1917",
      "cell_type": "code",
      "source": "a = 33\nb = 200\n\nif b > a:\n  pass",
      "metadata": {
        "trusted": true
      },
      "outputs": [],
      "execution_count": 227
    },
    {
      "id": "b78036df-3c8e-497e-a445-c1f631d76db7",
      "cell_type": "code",
      "source": "i = 1\nwhile i < 6:\n  print(i)\n  i += 1",
      "metadata": {
        "trusted": true
      },
      "outputs": [
        {
          "name": "stdout",
          "output_type": "stream",
          "text": "1\n2\n3\n4\n5\n"
        }
      ],
      "execution_count": 228
    },
    {
      "id": "3035c0ad-dc72-4e64-a0a4-a12461aa6f85",
      "cell_type": "code",
      "source": "i = 1\nwhile i < 6:\n  print(i)\n  if i == 3:\n    break\n  i += 1",
      "metadata": {
        "trusted": true
      },
      "outputs": [
        {
          "name": "stdout",
          "output_type": "stream",
          "text": "1\n2\n3\n"
        }
      ],
      "execution_count": 229
    },
    {
      "id": "e48e2e23-1cdc-4b9e-b7bc-738288a6cf6d",
      "cell_type": "code",
      "source": "i = 0\nwhile i < 6:\n  i += 1\n  if i == 3:\n    continue\n  print(i)",
      "metadata": {
        "trusted": true
      },
      "outputs": [
        {
          "name": "stdout",
          "output_type": "stream",
          "text": "1\n2\n4\n5\n6\n"
        }
      ],
      "execution_count": 230
    },
    {
      "id": "77577135-39ee-41e4-8436-df181d9f43b8",
      "cell_type": "code",
      "source": "i = 1\nwhile i < 6:\n  print(i)\n  i += 1\nelse:\n  print(\"i is no longer less than 6\")",
      "metadata": {
        "trusted": true
      },
      "outputs": [
        {
          "name": "stdout",
          "output_type": "stream",
          "text": "1\n2\n3\n4\n5\ni is no longer less than 6\n"
        }
      ],
      "execution_count": 231
    },
    {
      "id": "29e33179-c989-4e7b-bb32-2adfab97281f",
      "cell_type": "code",
      "source": "fruits = [\"apple\", \"banana\", \"cherry\"]\nfor x in fruits:\n  print(x)",
      "metadata": {
        "trusted": true
      },
      "outputs": [
        {
          "name": "stdout",
          "output_type": "stream",
          "text": "apple\nbanana\ncherry\n"
        }
      ],
      "execution_count": 232
    },
    {
      "id": "fa6e1f71-c2c5-454d-811e-6fe1b3d99353",
      "cell_type": "code",
      "source": "for x in \"banana\":\n  print(x)",
      "metadata": {
        "trusted": true
      },
      "outputs": [
        {
          "name": "stdout",
          "output_type": "stream",
          "text": "b\na\nn\na\nn\na\n"
        }
      ],
      "execution_count": 233
    },
    {
      "id": "265bd48e-4619-4fb3-81d8-db8c542ed99d",
      "cell_type": "code",
      "source": "fruits = [\"apple\", \"banana\", \"cherry\"]\nfor x in fruits:\n  print(x)\n  if x == \"banana\":\n    break",
      "metadata": {
        "trusted": true
      },
      "outputs": [
        {
          "name": "stdout",
          "output_type": "stream",
          "text": "apple\nbanana\n"
        }
      ],
      "execution_count": 234
    },
    {
      "id": "4e871934-3135-4c0c-943b-4d4311061f8c",
      "cell_type": "code",
      "source": "fruits = [\"apple\", \"banana\", \"cherry\"]\nfor x in fruits:\n  if x == \"banana\":\n    break\n  print(x)",
      "metadata": {
        "trusted": true
      },
      "outputs": [
        {
          "name": "stdout",
          "output_type": "stream",
          "text": "apple\n"
        }
      ],
      "execution_count": 235
    },
    {
      "id": "f947a77d-7aa5-4d9d-9c0d-c1feea806010",
      "cell_type": "code",
      "source": "fruits = [\"apple\", \"banana\", \"cherry\"]\nfor x in fruits:\n  if x == \"banana\":\n    continue\n  print(x)",
      "metadata": {
        "trusted": true
      },
      "outputs": [
        {
          "name": "stdout",
          "output_type": "stream",
          "text": "apple\ncherry\n"
        }
      ],
      "execution_count": 236
    },
    {
      "id": "4af35b4c-3bf1-4df4-baaf-fe68bcefb79b",
      "cell_type": "code",
      "source": "for x in range(6):\n  print(x)",
      "metadata": {
        "trusted": true
      },
      "outputs": [
        {
          "name": "stdout",
          "output_type": "stream",
          "text": "0\n1\n2\n3\n4\n5\n"
        }
      ],
      "execution_count": 237
    },
    {
      "id": "5a4094eb-edee-4461-943b-be24a317f29b",
      "cell_type": "code",
      "source": "for x in range(2, 6):\n  print(x)",
      "metadata": {
        "trusted": true
      },
      "outputs": [
        {
          "name": "stdout",
          "output_type": "stream",
          "text": "2\n3\n4\n5\n"
        }
      ],
      "execution_count": 238
    },
    {
      "id": "e7c3bbd1-1255-4886-9c1c-68c092b91f7e",
      "cell_type": "code",
      "source": "for x in range(2, 30, 3):\n  print(x)",
      "metadata": {
        "trusted": true
      },
      "outputs": [
        {
          "name": "stdout",
          "output_type": "stream",
          "text": "2\n5\n8\n11\n14\n17\n20\n23\n26\n29\n"
        }
      ],
      "execution_count": 239
    },
    {
      "id": "1dd797d5-d1f3-48e5-93fa-a057225880bf",
      "cell_type": "code",
      "source": "for x in range(6):\n  print(x)\nelse:\n  print(\"Finally finished!\")",
      "metadata": {
        "trusted": true
      },
      "outputs": [
        {
          "name": "stdout",
          "output_type": "stream",
          "text": "0\n1\n2\n3\n4\n5\nFinally finished!\n"
        }
      ],
      "execution_count": 240
    },
    {
      "id": "b2603720-b4b5-468e-9a6c-23e22851e129",
      "cell_type": "code",
      "source": "for x in range(6):\n  if x == 3: break\n  print(x)\nelse:\n  print(\"Finally finished!\")",
      "metadata": {
        "trusted": true
      },
      "outputs": [
        {
          "name": "stdout",
          "output_type": "stream",
          "text": "0\n1\n2\n"
        }
      ],
      "execution_count": 241
    },
    {
      "id": "958a54c9-e14e-4d2b-81bc-89c0d1696c5c",
      "cell_type": "code",
      "source": "adj = [\"red\", \"big\", \"tasty\"]\nfruits = [\"apple\", \"banana\", \"cherry\"]\n\nfor x in adj:\n  for y in fruits:\n    print(x, y)",
      "metadata": {
        "trusted": true
      },
      "outputs": [
        {
          "name": "stdout",
          "output_type": "stream",
          "text": "red apple\nred banana\nred cherry\nbig apple\nbig banana\nbig cherry\ntasty apple\ntasty banana\ntasty cherry\n"
        }
      ],
      "execution_count": 242
    },
    {
      "id": "2af98b82-7c0b-454a-ad51-17551f08fe2f",
      "cell_type": "code",
      "source": "for x in [0, 1, 2]:\n  pass",
      "metadata": {
        "trusted": true
      },
      "outputs": [],
      "execution_count": 243
    },
    {
      "id": "4608fe46-9126-4e16-8a30-4285c7de3c9c",
      "cell_type": "code",
      "source": "",
      "metadata": {
        "trusted": true
      },
      "outputs": [],
      "execution_count": null
    }
  ]
}