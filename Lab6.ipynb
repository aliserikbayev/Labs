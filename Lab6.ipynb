{
 "cells": [
  {
   "cell_type": "markdown",
   "id": "1362eb2e-3825-4aa0-98d5-155f7e6eeb02",
   "metadata": {},
   "source": [
    "builtin-functions:"
   ]
  },
  {
   "cell_type": "markdown",
   "id": "99072717-09ea-4750-9e9c-9e572716969c",
   "metadata": {},
   "source": [
    "Write a Python program with builtin function to multiply all the numbers in a list"
   ]
  },
  {
   "cell_type": "code",
   "execution_count": 2,
   "id": "9b842011-d0c2-4d25-9dd0-d8df66673905",
   "metadata": {},
   "outputs": [
    {
     "name": "stdout",
     "output_type": "stream",
     "text": [
      "120\n"
     ]
    }
   ],
   "source": [
    "import math\n",
    "list = [1,2,3,4,5]\n",
    "print(math.prod(list))"
   ]
  },
  {
   "cell_type": "markdown",
   "id": "682b55ff-2ab1-4274-a961-ddc21de88bec",
   "metadata": {},
   "source": [
    "Write a Python program with builtin function that accepts a string and calculate the number of upper case letters and lower case letters\n"
   ]
  },
  {
   "cell_type": "markdown",
   "id": "6445d363-3d13-4f53-aaed-7d9aac47bda7",
   "metadata": {},
   "source": [
    "def count_case(s):\n",
    "    upper_count = sum(1 for char in s if char.isupper())\n",
    "    lower_count = sum(1 for char in s if char.islower())\n",
    "    return upper_count, lower_count\n",
    "\n",
    "string = str(input(\"Enter string\"))\n",
    "upper, lower = count_case(string)\n",
    "print(\"Upper case letters:\", upper)\n",
    "print(\"Lower case letters:\", lower)\n"
   ]
  },
  {
   "cell_type": "markdown",
   "id": "a8a01b40-1f4c-4be6-85a4-66b0838d547a",
   "metadata": {},
   "source": [
    "Write a Python program with builtin function that checks whether a passed string is palindrome or not.\n"
   ]
  },
  {
   "cell_type": "code",
   "execution_count": 5,
   "id": "d3f9ba16-b8ab-46b8-b4f7-9d8eaffea48a",
   "metadata": {},
   "outputs": [
    {
     "name": "stdin",
     "output_type": "stream",
     "text": [
      "Enter string AAAB\n"
     ]
    },
    {
     "name": "stdout",
     "output_type": "stream",
     "text": [
      "Not Palindrome\n"
     ]
    }
   ],
   "source": [
    "string = str(input(\"Enter string\"))\n",
    "rstring = reversed(string)\n",
    "if(string == rstring):\n",
    "    print(\"Palindrome\")\n",
    "else:\n",
    "    print(\"Not Palindrome\")"
   ]
  },
  {
   "cell_type": "markdown",
   "id": "b38249c8-3d4e-42ae-86b0-d3c98a04beb7",
   "metadata": {},
   "source": [
    "Write a Python program that invoke square root function after specific milliseconds.\n",
    "\n",
    "Sample Input:\n",
    "25100\n",
    "2123\n",
    "Sample Output:\n",
    "Square root of 25100 after 2123 miliseconds is 158.42979517754858\n"
   ]
  },
  {
   "cell_type": "code",
   "execution_count": 6,
   "id": "6423450b-0a19-44ee-ab5f-3146d05b6591",
   "metadata": {},
   "outputs": [
    {
     "name": "stdin",
     "output_type": "stream",
     "text": [
      "Enter number 25100\n",
      "Enter msecs 2123\n"
     ]
    },
    {
     "name": "stdout",
     "output_type": "stream",
     "text": [
      " Square root of 25100.0 after 2123 miliseconds is 158.42979517754858\n"
     ]
    }
   ],
   "source": [
    "import time\n",
    "\n",
    "numba = float(input(\"Enter number\"))\n",
    "msec = int(input(\"Enter msecs\"))\n",
    "\n",
    "time.sleep(msec / 1000)\n",
    "\n",
    "print(f\" Square root of {numba} after {msec} miliseconds is {math.sqrt(numba)}\")"
   ]
  },
  {
   "cell_type": "markdown",
   "id": "4a4c99e7-b3f0-40ce-a56c-bbb692d18572",
   "metadata": {},
   "source": [
    "Write a Python program with builtin function that returns True if all elements of the tuple are true."
   ]
  },
  {
   "cell_type": "code",
   "execution_count": 10,
   "id": "28a76270-2889-480d-8ddb-e89ef97dba5c",
   "metadata": {},
   "outputs": [
    {
     "name": "stdout",
     "output_type": "stream",
     "text": [
      "True\n"
     ]
    }
   ],
   "source": [
    "tuple = (True, True, True)\n",
    "\n",
    "print(all(tuple))"
   ]
  },
  {
   "cell_type": "markdown",
   "id": "840344fa-dd4e-451f-a1b5-7a57fefdbeca",
   "metadata": {},
   "source": [
    "Python Directories and Files exercises\n"
   ]
  },
  {
   "cell_type": "code",
   "execution_count": 12,
   "id": "ce770e0f-3efa-4e9d-9422-eeeabdaf8c96",
   "metadata": {},
   "outputs": [],
   "source": [
    "import os"
   ]
  },
  {
   "cell_type": "markdown",
   "id": "e4c5d909-f176-4739-be2c-4aa5b0151363",
   "metadata": {},
   "source": [
    "Write a Python program to list only directories, files and all directories, files in a specified path.\n"
   ]
  },
  {
   "cell_type": "code",
   "execution_count": 13,
   "id": "23c3dd61-b715-4023-9587-738ba54d408b",
   "metadata": {},
   "outputs": [
    {
     "name": "stdout",
     "output_type": "stream",
     "text": [
      "Directories: ['.ipynb_checkpoints', '.git']\n",
      "Files: ['Lab3.ipynb', 'Lab2.ipynb', 'row.txt', 'Lab1.ipynb', 'Lab6.ipynb', 'Lab5.ipynb', 'Lab4.ipynb']\n",
      "All contents: ['Lab3.ipynb', '.ipynb_checkpoints', 'Lab2.ipynb', '.git', 'row.txt', 'Lab1.ipynb', 'Lab6.ipynb', 'Lab5.ipynb', 'Lab4.ipynb']\n"
     ]
    }
   ],
   "source": [
    "def list_directories(path):\n",
    "    return [d for d in os.listdir(path) if os.path.isdir(os.path.join(path, d))]\n",
    "\n",
    "def list_files(path):\n",
    "    return [f for f in os.listdir(path) if os.path.isfile(os.path.join(path, f))]\n",
    "\n",
    "def list_all(path):\n",
    "    return os.listdir(path)\n",
    "\n",
    "path = \".\"\n",
    "print(\"Directories:\", list_directories(path))\n",
    "print(\"Files:\", list_files(path))\n",
    "print(\"All contents:\", list_all(path))\n"
   ]
  },
  {
   "cell_type": "markdown",
   "id": "66ffd40a-fe30-4bbb-b1e4-f93a84d58c14",
   "metadata": {},
   "source": [
    "Write a Python program to check for access to a specified path. Test the existence, readability, writability and executability of the specified path\n"
   ]
  },
  {
   "cell_type": "code",
   "execution_count": null,
   "id": "c7face0e-99a6-477c-9ab7-1301fecc22bb",
   "metadata": {},
   "outputs": [],
   "source": [
    "def check_path_access(path):\n",
    "    access_info = {\n",
    "        \"Exists\": os.path.exists(path),\n",
    "        \"Readable\": os.access(path, os.R_OK),\n",
    "        \"Writable\": os.access(path, os.W_OK),\n",
    "        \"Executable\": os.access(path, os.X_OK)\n",
    "    }\n",
    "    return access_info\n",
    "\n",
    "path = \"sample_path\"\n",
    "access_info = check_path_access(path)\n",
    "for key, value in access_info.items():\n",
    "    print(f\"{key}: {value}\")"
   ]
  },
  {
   "cell_type": "markdown",
   "id": "f54f598a-6407-4385-873b-6c2a8410c064",
   "metadata": {},
   "source": [
    "Write a Python program to test whether a given path exists or not. If the path exist find the filename and directory portion of the given path."
   ]
  },
  {
   "cell_type": "code",
   "execution_count": null,
   "id": "64ae4ead-6066-4bbd-b068-28b67bada4a9",
   "metadata": {},
   "outputs": [],
   "source": []
  },
  {
   "cell_type": "markdown",
   "id": "162933f8-7933-48b0-8aad-53cdda92eb62",
   "metadata": {},
   "source": [
    "Write a Python program to count the number of lines in a text file.\n"
   ]
  },
  {
   "cell_type": "code",
   "execution_count": null,
   "id": "7f442916-11f0-4d8f-9f58-3786bb8fa05c",
   "metadata": {},
   "outputs": [],
   "source": []
  },
  {
   "cell_type": "markdown",
   "id": "5cc68d53-161d-40cd-973e-59439630dbbd",
   "metadata": {},
   "source": [
    "Write a Python program to write a list to a file.\n"
   ]
  },
  {
   "cell_type": "code",
   "execution_count": 15,
   "id": "e5d1b0e5-909c-4551-bd77-c51905f54acf",
   "metadata": {},
   "outputs": [
    {
     "data": {
      "text/plain": [
       "15"
      ]
     },
     "execution_count": 15,
     "metadata": {},
     "output_type": "execute_result"
    }
   ],
   "source": [
    "file = open(\"file.txt\", \"a\")\n",
    "list = [1,2,3,4,5]\n",
    "list = str(list)\n",
    "file.write(list)"
   ]
  },
  {
   "cell_type": "markdown",
   "id": "14547b65-afe4-4c36-9f24-e4ec5fae6ff5",
   "metadata": {},
   "source": [
    "Write a Python program to generate 26 text files named A.txt, B.txt, and so on up to Z.txt\n"
   ]
  },
  {
   "cell_type": "code",
   "execution_count": 17,
   "id": "9b1de776-3323-4d2e-8100-0293c57ec710",
   "metadata": {},
   "outputs": [
    {
     "name": "stdout",
     "output_type": "stream",
     "text": [
      "Generated\n"
     ]
    }
   ],
   "source": [
    "import string\n",
    "\n",
    "for letter in string.ascii_uppercase:\n",
    "    filename = f\"{letter}.txt\"\n",
    "    with open(filename, \"w\") as file:\n",
    "        file.write(f\"Das sind eine {filename} file\")\n",
    "\n",
    "print(\"Generated\")"
   ]
  },
  {
   "cell_type": "markdown",
   "id": "f3a96542-6537-435a-991e-4b9de43d6bd1",
   "metadata": {},
   "source": [
    "Write a Python program to copy the contents of a file to another file\n"
   ]
  },
  {
   "cell_type": "code",
   "execution_count": null,
   "id": "702af891-b6ae-40c3-9516-e176c592ec86",
   "metadata": {},
   "outputs": [],
   "source": []
  },
  {
   "cell_type": "markdown",
   "id": "d8fe4447-e999-4c30-92f6-7bb22288165b",
   "metadata": {},
   "source": [
    "Write a Python program to delete file by specified path. Before deleting check for access and whether a given path exists or not.\n"
   ]
  },
  {
   "cell_type": "code",
   "execution_count": null,
   "id": "d61e715f-b5a4-48a0-96a0-8658a2a00b49",
   "metadata": {},
   "outputs": [],
   "source": []
  }
 ],
 "metadata": {
  "kernelspec": {
   "display_name": "Python 3 (ipykernel)",
   "language": "python",
   "name": "python3"
  },
  "language_info": {
   "codemirror_mode": {
    "name": "ipython",
    "version": 3
   },
   "file_extension": ".py",
   "mimetype": "text/x-python",
   "name": "python",
   "nbconvert_exporter": "python",
   "pygments_lexer": "ipython3",
   "version": "3.10.12"
  }
 },
 "nbformat": 4,
 "nbformat_minor": 5
}
