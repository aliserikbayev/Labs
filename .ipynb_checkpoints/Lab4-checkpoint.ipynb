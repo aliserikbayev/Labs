{
 "cells": [
  {
   "cell_type": "markdown",
   "id": "cdfedebc-90c0-400e-8c84-75474613c394",
   "metadata": {},
   "source": [
    "Python date"
   ]
  },
  {
   "cell_type": "markdown",
   "id": "a5b2701e-c5d3-4b92-919f-2a4b2b3a3902",
   "metadata": {},
   "source": [
    "Write a Python program to subtract five days from current date.\n",
    "\n"
   ]
  },
  {
   "cell_type": "code",
   "execution_count": 1,
   "id": "a6eb3173-be2a-4358-b172-ed44248d4973",
   "metadata": {},
   "outputs": [
    {
     "name": "stdout",
     "output_type": "stream",
     "text": [
      "2025-02-11 21:08:11.802924\n"
     ]
    }
   ],
   "source": [
    "import datetime as dt\n",
    "\n",
    "x = dt.datetime.now() - dt.timedelta(days=5)\n",
    "print(x)\n",
    "\n"
   ]
  },
  {
   "cell_type": "markdown",
   "id": "5a6a3074-b90b-42b2-a907-5ac3a7f8a5f2",
   "metadata": {},
   "source": [
    "Write a Python program to print yesterday, today, tomorrow.\n",
    "\n"
   ]
  },
  {
   "cell_type": "code",
   "execution_count": 2,
   "id": "22be6495-7598-42d0-a2c9-0d19bcd4d16b",
   "metadata": {},
   "outputs": [
    {
     "name": "stdout",
     "output_type": "stream",
     "text": [
      "Yesterday: 2025-02-15 21:08:11.823098; Today: 2025-02-16 21:08:11.823098; Tomorrow: 2025-02-17 21:08:11.823098\n"
     ]
    }
   ],
   "source": [
    "x = dt.datetime.now()\n",
    "t = x + dt.timedelta(days = 1)\n",
    "y = x - dt.timedelta(days = 1)\n",
    "\n",
    "print(f\"Yesterday: {y}; Today: {x}; Tomorrow: {t}\")"
   ]
  },
  {
   "cell_type": "markdown",
   "id": "bef65fc4-3c8b-4fb1-a610-9078269de71a",
   "metadata": {},
   "source": [
    "Write a Python program to drop microseconds from datetime.\n",
    "\n"
   ]
  },
  {
   "cell_type": "code",
   "execution_count": 3,
   "id": "6b354bb5-d6df-4845-828c-0f42788b0f74",
   "metadata": {},
   "outputs": [
    {
     "name": "stdout",
     "output_type": "stream",
     "text": [
      "Original time: 2025-02-16 21:08:11.836520\n",
      "Time without microseconds: 2025-02-16 21:08:11\n"
     ]
    }
   ],
   "source": [
    "current_time = dt.datetime.now()\n",
    "\n",
    "time_without_microseconds = current_time.replace(microsecond=0)\n",
    "\n",
    "print(f\"Original time: {current_time}\")\n",
    "print(f\"Time without microseconds: {time_without_microseconds}\")"
   ]
  },
  {
   "cell_type": "markdown",
   "id": "c66d87e6-e963-4ed0-acc3-26b2ff72758c",
   "metadata": {},
   "source": [
    "Write a Python program to calculate two date difference in seconds.\n",
    "\n"
   ]
  },
  {
   "cell_type": "code",
   "execution_count": 5,
   "id": "dac897b9-3afe-4b3a-b85c-445254776278",
   "metadata": {},
   "outputs": [
    {
     "name": "stdin",
     "output_type": "stream",
     "text": [
      "Enter date in the format: YYYY-MM-DD HH:MM:SS 2025-02-16 21:08:11\n",
      "Enter date in the format: YYYY-MM-DD HH:MM:SS 2025-02-16 21:08:11\n"
     ]
    },
    {
     "name": "stdout",
     "output_type": "stream",
     "text": [
      "The difference between the two dates is 0.0 seconds.\n"
     ]
    }
   ],
   "source": [
    "from datetime import datetime\n",
    "\n",
    "date1 = input(\"Enter date in the format: YYYY-MM-DD HH:MM:SS\")\n",
    "date2 = input(\"Enter date in the format: YYYY-MM-DD HH:MM:SS\")\n",
    "\n",
    "date1 = datetime.strptime(date1, \"%Y-%m-%d %H:%M:%S\")\n",
    "date2 = datetime.strptime(date2, \"%Y-%m-%d %H:%M:%S\")\n",
    "\n",
    "time_difference = date2 - date1\n",
    "\n",
    "seconds_difference = time_difference.total_seconds()\n",
    "\n",
    "print(f\"The difference between the two dates is {seconds_difference} seconds.\")\n"
   ]
  },
  {
   "cell_type": "markdown",
   "id": "617800ec-3af9-4f54-a9e0-8e5f50e204d7",
   "metadata": {},
   "source": [
    "Python Math library"
   ]
  },
  {
   "cell_type": "markdown",
   "id": "3bffeae7-2a98-49fe-8f43-cf67a8c883c6",
   "metadata": {},
   "source": [
    "Write a Python program to convert degree to radian.\n",
    "Input degree: 15\n",
    "Output radian: 0.261904"
   ]
  },
  {
   "cell_type": "code",
   "execution_count": 6,
   "id": "1a338998-636a-46aa-a3bb-ff41bf4e49f3",
   "metadata": {},
   "outputs": [
    {
     "name": "stdout",
     "output_type": "stream",
     "text": [
      "0.2617993877991494\n"
     ]
    }
   ],
   "source": [
    "import math\n",
    "\n",
    "degree = 15\n",
    "\n",
    "print((degree * math.pi) / 180)"
   ]
  },
  {
   "cell_type": "markdown",
   "id": "336edd85-27b6-4af4-9b94-084b207e013f",
   "metadata": {},
   "source": [
    "Write a Python program to calculate the area of a trapezoid.\n",
    "Height: 5\n",
    "Base, first value: 5\n",
    "Base, second value: 6\n",
    "Expected Output: 27.5"
   ]
  },
  {
   "cell_type": "code",
   "execution_count": 7,
   "id": "0961029d-a56f-4a87-8f30-490776bb0c34",
   "metadata": {},
   "outputs": [
    {
     "name": "stdout",
     "output_type": "stream",
     "text": [
      "27.5\n"
     ]
    }
   ],
   "source": [
    "height = 5\n",
    "base1 = 5\n",
    "base2 = 6\n",
    "\n",
    "print((base1 + base2) * height / 2)"
   ]
  },
  {
   "cell_type": "markdown",
   "id": "06f0941e-d08f-47a4-b41d-0cafdbb34216",
   "metadata": {},
   "source": [
    "Write a Python program to calculate the area of regular polygon.\n",
    "Input number of sides: 4\n",
    "Input the length of a side: 25\n",
    "The area of the polygon is: 625"
   ]
  },
  {
   "cell_type": "code",
   "execution_count": 8,
   "id": "1f980c21-4ca1-48ff-9141-dbb3c1ea4b92",
   "metadata": {},
   "outputs": [
    {
     "name": "stdout",
     "output_type": "stream",
     "text": [
      "625.0000000000001\n"
     ]
    }
   ],
   "source": [
    "nsides = 4\n",
    "length = 25\n",
    "apothem = length / (2 * math.tan(math.radians(180 / nsides)))\n",
    "\n",
    "print(nsides * length * apothem / 2)\n"
   ]
  },
  {
   "cell_type": "markdown",
   "id": "eee90a57-8df3-4465-a396-068fd1412d85",
   "metadata": {},
   "source": [
    "Write a Python program to calculate the area of a parallelogram.\n",
    "Length of base: 5\n",
    "Height of parallelogram: 6\n",
    "Expected Output: 30.0\n"
   ]
  },
  {
   "cell_type": "code",
   "execution_count": 9,
   "id": "7ff7dd4e-73cf-45a7-95f0-2fce7ad7f0e3",
   "metadata": {},
   "outputs": [
    {
     "name": "stdout",
     "output_type": "stream",
     "text": [
      "30\n"
     ]
    }
   ],
   "source": [
    "length = 5\n",
    "height = 6\n",
    "\n",
    "print(length * height)"
   ]
  },
  {
   "cell_type": "markdown",
   "id": "bf325107-9714-44d2-ae3f-27532a60349d",
   "metadata": {},
   "source": [
    "Python iterators and generators\n"
   ]
  },
  {
   "cell_type": "markdown",
   "id": "09f259f9-c9e4-47eb-a20f-9c1a5831b69c",
   "metadata": {},
   "source": [
    "Create a generator that generates the squares of numbers up to some number N."
   ]
  },
  {
   "cell_type": "code",
   "execution_count": 10,
   "id": "9e4f3118-8e51-4ea5-8454-dc1e2aaf6b90",
   "metadata": {},
   "outputs": [
    {
     "name": "stdin",
     "output_type": "stream",
     "text": [
      " 10\n"
     ]
    },
    {
     "name": "stdout",
     "output_type": "stream",
     "text": [
      "0\n",
      "1\n",
      "4\n",
      "9\n",
      "16\n",
      "25\n",
      "36\n",
      "49\n",
      "64\n",
      "81\n"
     ]
    }
   ],
   "source": [
    "def squares(N):\n",
    "    for i in range(N):\n",
    "        yield i * i\n",
    "\n",
    "N = int(input())\n",
    "gen = squares(N)\n",
    "for i in range(N):\n",
    "    print(next(gen))"
   ]
  },
  {
   "cell_type": "markdown",
   "id": "ad189fdb-b0f2-4f91-9c7d-dcb45699fe90",
   "metadata": {},
   "source": [
    "Write a program using generator to print the even numbers between 0 and n in comma separated form where n is input from console."
   ]
  },
  {
   "cell_type": "code",
   "execution_count": 11,
   "id": "1c33fdc1-1216-4495-a647-60cd36443b6d",
   "metadata": {},
   "outputs": [
    {
     "name": "stdin",
     "output_type": "stream",
     "text": [
      " 121\n"
     ]
    },
    {
     "name": "stdout",
     "output_type": "stream",
     "text": [
      "0\n",
      "2\n",
      "4\n",
      "6\n",
      "8\n",
      "10\n",
      "12\n",
      "14\n",
      "16\n",
      "18\n",
      "20\n",
      "22\n",
      "24\n",
      "26\n",
      "28\n",
      "30\n",
      "32\n",
      "34\n",
      "36\n",
      "38\n",
      "40\n",
      "42\n",
      "44\n",
      "46\n",
      "48\n",
      "50\n",
      "52\n",
      "54\n",
      "56\n",
      "58\n",
      "60\n",
      "62\n",
      "64\n",
      "66\n",
      "68\n",
      "70\n",
      "72\n",
      "74\n",
      "76\n",
      "78\n",
      "80\n",
      "82\n",
      "84\n",
      "86\n",
      "88\n",
      "90\n",
      "92\n",
      "94\n",
      "96\n",
      "98\n",
      "100\n",
      "102\n",
      "104\n",
      "106\n",
      "108\n",
      "110\n",
      "112\n",
      "114\n",
      "116\n",
      "118\n",
      "120\n"
     ]
    }
   ],
   "source": [
    "n = int(input())\n",
    "\n",
    "def even(n):\n",
    "    for i in range(n):\n",
    "        if(i % 2 == 0):\n",
    "            yield i\n",
    "\n",
    "gen = even(n)\n",
    "for evens in gen:\n",
    "    print(evens)    "
   ]
  },
  {
   "cell_type": "markdown",
   "id": "46079396-5fc9-49d4-a69b-203eda68ea9a",
   "metadata": {},
   "source": [
    "Define a function with a generator which can iterate the numbers, which are divisible by 3 and 4, between a given range 0 and n.\n",
    "\n"
   ]
  },
  {
   "cell_type": "code",
   "execution_count": 12,
   "id": "d548eb72-d26a-4a6b-924f-95fdf9ef9556",
   "metadata": {},
   "outputs": [
    {
     "name": "stdin",
     "output_type": "stream",
     "text": [
      " 15\n"
     ]
    },
    {
     "name": "stdout",
     "output_type": "stream",
     "text": [
      "0\n",
      "12\n"
     ]
    }
   ],
   "source": [
    "def div(n):\n",
    "    for i in range(n):\n",
    "        if(i % 12 == 0):\n",
    "            yield i\n",
    "\n",
    "n = int(input())\n",
    "\n",
    "gen = div(n)\n",
    "\n",
    "for divs in gen:\n",
    "    print(divs)"
   ]
  },
  {
   "cell_type": "markdown",
   "id": "b2ba38e1-4011-4ddc-858b-0b5b6a0356e8",
   "metadata": {},
   "source": [
    "Implement a generator called squares to yield the square of all numbers from (a) to (b). Test it with a \"for\" loop and print each of the yielded values.\n",
    "\n"
   ]
  },
  {
   "cell_type": "code",
   "execution_count": 14,
   "id": "c0493c6e-5a93-4a73-a440-5dc87b07d3bb",
   "metadata": {},
   "outputs": [
    {
     "name": "stdin",
     "output_type": "stream",
     "text": [
      " 10\n",
      " 15\n"
     ]
    },
    {
     "name": "stdout",
     "output_type": "stream",
     "text": [
      "100\n",
      "121\n",
      "144\n",
      "169\n",
      "196\n"
     ]
    }
   ],
   "source": [
    "a = int(input())\n",
    "b = int(input())\n",
    "\n",
    "def squares(a,b):\n",
    "    for i in range(a,b):\n",
    "        yield i * i\n",
    "\n",
    "gen = squares(a,b)\n",
    "\n",
    "for i in range(a,b):\n",
    "    print(next(gen))"
   ]
  },
  {
   "cell_type": "markdown",
   "id": "b5ef6a68-0959-46db-aa6d-1eb5e5791023",
   "metadata": {},
   "source": [
    "Implement a generator that returns all numbers from (n) down to 0.\n",
    "\n"
   ]
  },
  {
   "cell_type": "code",
   "execution_count": 15,
   "id": "037f1e53-8319-43e3-98a0-753b42a89cfa",
   "metadata": {},
   "outputs": [
    {
     "name": "stdin",
     "output_type": "stream",
     "text": [
      " 10\n"
     ]
    },
    {
     "name": "stdout",
     "output_type": "stream",
     "text": [
      "10\n",
      "9\n",
      "8\n",
      "7\n",
      "6\n",
      "5\n",
      "4\n",
      "3\n",
      "2\n",
      "1\n"
     ]
    }
   ],
   "source": [
    "def alnum(n):\n",
    "    for i in range(n):\n",
    "        yield n - i\n",
    "\n",
    "n = int(input())\n",
    "gen = alnum(n)\n",
    "\n",
    "for i in range(n):\n",
    "    print(next(gen))"
   ]
  }
 ],
 "metadata": {
  "kernelspec": {
   "display_name": "Python 3 (ipykernel)",
   "language": "python",
   "name": "python3"
  },
  "language_info": {
   "codemirror_mode": {
    "name": "ipython",
    "version": 3
   },
   "file_extension": ".py",
   "mimetype": "text/x-python",
   "name": "python",
   "nbconvert_exporter": "python",
   "pygments_lexer": "ipython3",
   "version": "3.10.12"
  }
 },
 "nbformat": 4,
 "nbformat_minor": 5
}
