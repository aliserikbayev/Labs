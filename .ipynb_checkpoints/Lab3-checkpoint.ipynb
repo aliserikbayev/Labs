{
 "cells": [
  {
   "cell_type": "markdown",
   "id": "ad8f2627-ddc8-48bf-a5c2-62fd7f9b506e",
   "metadata": {},
   "source": [
    "#functions1.md:"
   ]
  },
  {
   "cell_type": "markdown",
   "id": "359534cb-2bff-4ce3-84b8-3f58cbd0c804",
   "metadata": {},
   "source": [
    "\n",
    "A recipe you are reading states how many grams you need for the ingredient. Unfortunately, your store only sells items in ounces. Create a function to convert grams to ounces. ounces = 28.3495231 * grams"
   ]
  },
  {
   "cell_type": "code",
   "execution_count": 15,
   "id": "45cdf69a-1c48-40e2-a359-6aba77751368",
   "metadata": {},
   "outputs": [
    {
     "name": "stdin",
     "output_type": "stream",
     "text": [
      "howmanygrams 1\n"
     ]
    },
    {
     "data": {
      "text/plain": [
       "28.3495231"
      ]
     },
     "execution_count": 15,
     "metadata": {},
     "output_type": "execute_result"
    }
   ],
   "source": [
    "#1\n",
    "def ounce_conv(grams):\n",
    "    return 28.3495231 * grams\n",
    "gramm = float(input(\"howmanygrams\"))\n",
    "ounce_conv(gramm)"
   ]
  },
  {
   "cell_type": "markdown",
   "id": "c1db66f9-50ff-4f6f-aa01-5f362bb7c62a",
   "metadata": {},
   "source": [
    "Read in a Fahrenheit temperature. Calculate and display the equivalent centigrade temperature. The following formula is used for the conversion: C = (5 / 9) * (F – 32)\n",
    "\n"
   ]
  },
  {
   "cell_type": "code",
   "execution_count": null,
   "id": "4de3e7b6-5f58-4498-9a14-3c7f457458ab",
   "metadata": {},
   "outputs": [],
   "source": [
    "#2\n",
    "def convert(fahren):\n",
    "    return ((5 / 9) * (F - 32))\n",
    "\n",
    "fahr = float(input(\"howmanyfahr\")\n",
    "convert(fahr)"
   ]
  },
  {
   "cell_type": "markdown",
   "id": "8eef5f9f-5091-461c-8022-11c2f37ab89a",
   "metadata": {},
   "source": [
    "Write a program to solve a classic puzzle: We count 35 heads and 94 legs among the chickens and rabbits in a farm. How many rabbits and how many chickens do we have? create function: solve(numheads, numlegs):\n",
    "\n"
   ]
  },
  {
   "cell_type": "code",
   "execution_count": 19,
   "id": "f5c7b836-c1d9-4c9d-aea7-49d298c45030",
   "metadata": {},
   "outputs": [
    {
     "data": {
      "text/plain": [
       "(12.0, 23.0)"
      ]
     },
     "execution_count": 19,
     "metadata": {},
     "output_type": "execute_result"
    }
   ],
   "source": [
    "#3\n",
    "def solve(numheads = 35, numlegs = 94):\n",
    "    rabbits = (numlegs - 2 * numheads) / 2\n",
    "    chicken = numheads - rabbits\n",
    "    return (rabbits, chicken)\n",
    "\n",
    "solve()"
   ]
  },
  {
   "cell_type": "markdown",
   "id": "ffe593ee-b742-499f-9842-835a565f5bdc",
   "metadata": {},
   "source": [
    "You are given list of numbers separated by spaces. Write a function filter_prime which will take list of numbers as an agrument and returns only prime numbers from the list.\n",
    "\n"
   ]
  },
  {
   "cell_type": "code",
   "execution_count": 24,
   "id": "9c759883-6b70-43c6-96b3-cd897e8ab88b",
   "metadata": {},
   "outputs": [
    {
     "name": "stdin",
     "output_type": "stream",
     "text": [
      "Enter elements of the list separated by space:  1 2 3 4 5 6\n"
     ]
    },
    {
     "data": {
      "text/plain": [
       "[2, 3, 5]"
      ]
     },
     "execution_count": 24,
     "metadata": {},
     "output_type": "execute_result"
    }
   ],
   "source": [
    "#4\n",
    "def filter_prime(numbers):\n",
    "    def is_prime(n):\n",
    "        if n < 2:\n",
    "            return False\n",
    "        for i in range(2, int(n ** 0.5) + 1):\n",
    "            if n % i == 0:\n",
    "                return False\n",
    "        return True\n",
    "    return [n for n in numbers if is_prime(n)]\n",
    "\n",
    "input_str = input(\"Enter elements of the list separated by space: \")\n",
    "\n",
    "my_list = input_str.split()\n",
    "my_list = [int(num) for num in my_list]\n",
    "\n",
    "filter_prime(my_list)"
   ]
  },
  {
   "cell_type": "markdown",
   "id": "4fe81187-829d-4757-951b-3beaef52052b",
   "metadata": {},
   "source": [
    "Write a function that accepts string from user and print all permutations of that string.\n",
    "\n"
   ]
  },
  {
   "cell_type": "code",
   "execution_count": 27,
   "id": "9be16344-fc36-49d6-b979-b48dee2d1625",
   "metadata": {},
   "outputs": [
    {
     "name": "stdin",
     "output_type": "stream",
     "text": [
      "Enter String asd\n"
     ]
    },
    {
     "data": {
      "text/plain": [
       "['asd', 'ads', 'sad', 'sda', 'das', 'dsa']"
      ]
     },
     "execution_count": 27,
     "metadata": {},
     "output_type": "execute_result"
    }
   ],
   "source": [
    "#5\n",
    "import itertools\n",
    "def string_permutations(s):\n",
    "    return list(map(\"\".join, itertools.permutations(s)))\n",
    "s = str(input(\"Enter String\"))\n",
    "\n",
    "string_permutations(s)"
   ]
  },
  {
   "cell_type": "markdown",
   "id": "69ba85af-4ff1-42f4-9f2c-0088cd0990cd",
   "metadata": {},
   "source": [
    "Write a function that accepts string from user, return a sentence with the words reversed. We are ready -> ready are We\n",
    "\n"
   ]
  },
  {
   "cell_type": "code",
   "execution_count": 28,
   "id": "430e04b9-b53a-4e4e-901c-3c209e451f2a",
   "metadata": {},
   "outputs": [
    {
     "name": "stdin",
     "output_type": "stream",
     "text": [
      "Enter a sentence sexy schmexy\n"
     ]
    },
    {
     "data": {
      "text/plain": [
       "'schmexy sexy'"
      ]
     },
     "execution_count": 28,
     "metadata": {},
     "output_type": "execute_result"
    }
   ],
   "source": [
    "#6\n",
    "def reverse_words(sentence):\n",
    "    return \" \".join(sentence.split()[::-1])\n",
    "\n",
    "s = input(\"Enter a sentence\")\n",
    "\n",
    "reverse_words(s)"
   ]
  },
  {
   "cell_type": "markdown",
   "id": "fd4d7578-4685-4fed-8ed0-72bea5404483",
   "metadata": {},
   "source": [
    "Given a list of ints, return True if the array contains a 3 next to a 3 somewhere."
   ]
  },
  {
   "cell_type": "code",
   "execution_count": 31,
   "id": "4d77a3f1-a181-457c-b0c5-197413da13fd",
   "metadata": {},
   "outputs": [
    {
     "name": "stdin",
     "output_type": "stream",
     "text": [
      "numbers separated by space 1 2 3 4 5\n"
     ]
    },
    {
     "data": {
      "text/plain": [
       "False"
      ]
     },
     "execution_count": 31,
     "metadata": {},
     "output_type": "execute_result"
    }
   ],
   "source": [
    "#7\n",
    "def has_33(numbers):\n",
    "    return any(numbers[i] == 3 and numbers[i + 1] == 3 for i in range(len(numbers) - 1))\n",
    "\n",
    "input_str = input(\"numbers separated by space\")\n",
    "\n",
    "numbers = input_str.split()\n",
    "numbers = [int(num) for num in numbers]\n",
    "has_33(numbers)"
   ]
  },
  {
   "cell_type": "markdown",
   "id": "41498015-fa69-45bd-a2d2-321537d2bfe1",
   "metadata": {},
   "source": [
    "Write a function that takes in a list of integers and returns True if it contains 007 in order\n"
   ]
  },
  {
   "cell_type": "code",
   "execution_count": null,
   "id": "7b58a9c4-e2f8-4269-9d8d-8e97e02ebe35",
   "metadata": {},
   "outputs": [],
   "source": [
    "#8\n",
    "def spy_game(numbers):\n",
    "    return any(numbers[i] == 0 and numbers[i + 1] == 0 and numbers[i + 2] == 7 for i in range(len(numbers) - 1))\n",
    "\n",
    "input_str = input(\"numbers separated by space\")\n",
    "\n",
    "numbers = input_str.split()\n",
    "numbers = [int(num) for num in numbers]\n",
    "spy_game(numbers)"
   ]
  },
  {
   "cell_type": "markdown",
   "id": "edd1d206-a8a1-4be5-bb51-f50fea2be1a2",
   "metadata": {},
   "source": [
    "Write a function that computes the volume of a sphere given its radius.\n",
    "\n"
   ]
  },
  {
   "cell_type": "code",
   "execution_count": null,
   "id": "7aa04a96-d279-4d16-adf9-5856b028329d",
   "metadata": {},
   "outputs": [],
   "source": [
    "#9\n",
    "def sphere_volume(radius):\n",
    "    return (4/3) * 3.14159 * radius**3\n",
    "\n",
    "radius = float(input(\"Enter radius\"))\n",
    "sphere_volume(radius)"
   ]
  },
  {
   "cell_type": "markdown",
   "id": "ee9f0ab8-67b1-42ff-b55b-4136b035281e",
   "metadata": {},
   "source": [
    "Write a Python function that takes a list and returns a new list with unique elements of the first list. Note: don't use collection set."
   ]
  },
  {
   "cell_type": "code",
   "execution_count": 33,
   "id": "5bfe7efc-c0e2-47e3-ab81-704001e916a1",
   "metadata": {},
   "outputs": [
    {
     "name": "stdin",
     "output_type": "stream",
     "text": [
      "numbers separated by space 1 2 3 4\n"
     ]
    },
    {
     "data": {
      "text/plain": [
       "[1, 2, 3, 4]"
      ]
     },
     "execution_count": 33,
     "metadata": {},
     "output_type": "execute_result"
    }
   ],
   "source": [
    "#10\n",
    "def unique_elements(lst):\n",
    "    unique_list = []\n",
    "    for item in lst:\n",
    "        if item not in unique_list:\n",
    "            unique_list.append(item)\n",
    "    return unique_list\n",
    "\n",
    "input_str = input(\"numbers separated by space\")\n",
    "numbers = input_str.split()\n",
    "numbers = [int(num) for num in numbers]\n",
    "unique_elements(numbers)"
   ]
  },
  {
   "cell_type": "markdown",
   "id": "6f420d88-b4d0-4092-85e1-b99634a37fd7",
   "metadata": {},
   "source": [
    "Write a Python function that checks whether a word or phrase is palindrome or not. Note: A palindrome is word, phrase, or sequence that reads the same backward as forward, e.g., madam\n",
    "\n"
   ]
  },
  {
   "cell_type": "code",
   "execution_count": 36,
   "id": "2bca3f21-a2af-4d4c-892f-9170ae1ec195",
   "metadata": {},
   "outputs": [
    {
     "name": "stdin",
     "output_type": "stream",
     "text": [
      "stringi madam\n"
     ]
    },
    {
     "data": {
      "text/plain": [
       "True"
      ]
     },
     "execution_count": 36,
     "metadata": {},
     "output_type": "execute_result"
    }
   ],
   "source": [
    "#11\n",
    "def is_palindrome(s):\n",
    "    return s == s[::-1]\n",
    "\n",
    "input_str = input(\"stringi\")\n",
    "is_palindrome(input_str)"
   ]
  },
  {
   "cell_type": "markdown",
   "id": "24c5283b-0084-4da7-add1-21b6b011cfbc",
   "metadata": {},
   "source": [
    "Define a functino histogram() that takes a list of integers and prints a histogram to the screen. For example, histogram([4, 9, 7]) should print the following:"
   ]
  },
  {
   "cell_type": "code",
   "execution_count": 44,
   "id": "bcb16e89-fd2f-41d8-8f45-9e7faa320a36",
   "metadata": {},
   "outputs": [
    {
     "name": "stdin",
     "output_type": "stream",
     "text": [
      "numbers separated by space 4 7 9\n"
     ]
    },
    {
     "name": "stdout",
     "output_type": "stream",
     "text": [
      "****\n",
      "\n",
      "\n",
      "*******\n",
      "\n",
      "\n",
      "*********\n",
      "\n",
      "\n"
     ]
    }
   ],
   "source": [
    "#12\n",
    "def histogram(nums):\n",
    "    for i in nums:\n",
    "        print(i * '*')\n",
    "        print('\\n')\n",
    "\n",
    "\n",
    "input_str = input(\"numbers separated by space\")\n",
    "numbers = input_str.split()\n",
    "numbers = [int(num) for num in numbers]\n",
    "histogram(numbers)"
   ]
  },
  {
   "cell_type": "markdown",
   "id": "cae23048-2a49-43d1-96cb-725a425dca30",
   "metadata": {},
   "source": [
    "Write a program able to play the \"Guess the number\" - game, where the number to be guessed is randomly chosen between 1 and 20. This is how it should work when run in a terminal:\n"
   ]
  },
  {
   "cell_type": "code",
   "execution_count": 46,
   "id": "a170e51c-e448-4f84-9d83-df7d7fa613a5",
   "metadata": {},
   "outputs": [
    {
     "name": "stdin",
     "output_type": "stream",
     "text": [
      "Hello! What is your name?\n",
      " as\n"
     ]
    },
    {
     "name": "stdout",
     "output_type": "stream",
     "text": [
      "\n",
      "Well, as, I am thinking of a number between 1 and 20.\n"
     ]
    },
    {
     "name": "stdin",
     "output_type": "stream",
     "text": [
      "Take a guess.\n",
      " 1\n"
     ]
    },
    {
     "name": "stdout",
     "output_type": "stream",
     "text": [
      "Your guess is too low.\n"
     ]
    },
    {
     "name": "stdin",
     "output_type": "stream",
     "text": [
      "Take a guess.\n",
      " 15\n"
     ]
    },
    {
     "name": "stdout",
     "output_type": "stream",
     "text": [
      "Your guess is too high.\n"
     ]
    },
    {
     "name": "stdin",
     "output_type": "stream",
     "text": [
      "Take a guess.\n",
      " 10\n"
     ]
    },
    {
     "name": "stdout",
     "output_type": "stream",
     "text": [
      "Your guess is too low.\n"
     ]
    },
    {
     "name": "stdin",
     "output_type": "stream",
     "text": [
      "Take a guess.\n",
      " 12\n"
     ]
    },
    {
     "name": "stdout",
     "output_type": "stream",
     "text": [
      "Your guess is too high.\n"
     ]
    },
    {
     "name": "stdin",
     "output_type": "stream",
     "text": [
      "Take a guess.\n",
      " 11\n"
     ]
    },
    {
     "name": "stdout",
     "output_type": "stream",
     "text": [
      "Good job, as! You guessed my number in 5 guesses!\n"
     ]
    }
   ],
   "source": [
    "#13\n",
    "import random\n",
    "def guess_the_number():\n",
    "    name = input(\"Hello! What is your name?\\n\")\n",
    "    print(f\"\\nWell, {name}, I am thinking of a number between 1 and 20.\")\n",
    "    number = random.randint(1, 20)\n",
    "    guesses = 0\n",
    "    while True:\n",
    "        guess = int(input(\"Take a guess.\\n\"))\n",
    "        guesses += 1\n",
    "        if guess < number:\n",
    "            print(\"Your guess is too low.\")\n",
    "        elif guess > number:\n",
    "            print(\"Your guess is too high.\")\n",
    "        else:\n",
    "            print(f\"Good job, {name}! You guessed my number in {guesses} guesses!\")\n",
    "            break\n",
    "\n",
    "guess_the_number()"
   ]
  },
  {
   "cell_type": "markdown",
   "id": "53693d0f-c989-4b7e-a8e4-0dfdc45d97d4",
   "metadata": {},
   "source": [
    "Create a python file and import some of the functions from the above 13 tasks and try to use them.\n"
   ]
  },
  {
   "cell_type": "code",
   "execution_count": 48,
   "id": "1d6fe24d-d1a0-44d5-a9d2-08e7274dac78",
   "metadata": {},
   "outputs": [
    {
     "name": "stdin",
     "output_type": "stream",
     "text": [
      "Hello! What is your name?\n",
      " s\n"
     ]
    },
    {
     "name": "stdout",
     "output_type": "stream",
     "text": [
      "\n",
      "Well, s, I am thinking of a number between 1 and 20.\n"
     ]
    },
    {
     "name": "stdin",
     "output_type": "stream",
     "text": [
      "Take a guess.\n",
      " 15\n"
     ]
    },
    {
     "name": "stdout",
     "output_type": "stream",
     "text": [
      "Your guess is too high.\n"
     ]
    },
    {
     "name": "stdin",
     "output_type": "stream",
     "text": [
      "Take a guess.\n",
      " 10\n"
     ]
    },
    {
     "name": "stdout",
     "output_type": "stream",
     "text": [
      "Your guess is too low.\n"
     ]
    },
    {
     "name": "stdin",
     "output_type": "stream",
     "text": [
      "Take a guess.\n",
      " 12\n"
     ]
    },
    {
     "name": "stdout",
     "output_type": "stream",
     "text": [
      "Your guess is too high.\n"
     ]
    },
    {
     "name": "stdin",
     "output_type": "stream",
     "text": [
      "Take a guess.\n",
      " 11\n"
     ]
    },
    {
     "name": "stdout",
     "output_type": "stream",
     "text": [
      "Good job, s! You guessed my number in 4 guesses!\n"
     ]
    },
    {
     "name": "stdin",
     "output_type": "stream",
     "text": [
      "Enter a sentence as\n"
     ]
    },
    {
     "data": {
      "text/plain": [
       "'as'"
      ]
     },
     "execution_count": 48,
     "metadata": {},
     "output_type": "execute_result"
    }
   ],
   "source": [
    "#14\n",
    "guess_the_number()\n",
    "solve()\n",
    "s = input(\"Enter a sentence\")\n",
    "reverse_words(s)"
   ]
  },
  {
   "cell_type": "code",
   "execution_count": 9,
   "id": "8139d52c-ee0d-4486-97e9-4519db403c9a",
   "metadata": {},
   "outputs": [],
   "source": [
    "#functions2.md:\n",
    "# Dictionary of movies\n",
    "\n",
    "movies = [\n",
    "{\n",
    "\"name\": \"Usual Suspects\", \n",
    "\"imdb\": 7.0,\n",
    "\"category\": \"Thriller\"\n",
    "},\n",
    "{\n",
    "\"name\": \"Hitman\",\n",
    "\"imdb\": 6.3,\n",
    "\"category\": \"Action\"\n",
    "},\n",
    "{\n",
    "\"name\": \"Dark Knight\",\n",
    "\"imdb\": 9.0,\n",
    "\"category\": \"Adventure\"\n",
    "},\n",
    "{\n",
    "\"name\": \"The Help\",\n",
    "\"imdb\": 8.0,\n",
    "\"category\": \"Drama\"\n",
    "},\n",
    "{\n",
    "\"name\": \"The Choice\",\n",
    "\"imdb\": 6.2,\n",
    "\"category\": \"Romance\"\n",
    "},\n",
    "{\n",
    "\"name\": \"Colonia\",\n",
    "\"imdb\": 7.4,\n",
    "\"category\": \"Romance\"\n",
    "},\n",
    "{\n",
    "\"name\": \"Love\",\n",
    "\"imdb\": 6.0,\n",
    "\"category\": \"Romance\"\n",
    "},\n",
    "{\n",
    "\"name\": \"Bride Wars\",\n",
    "\"imdb\": 5.4,\n",
    "\"category\": \"Romance\"\n",
    "},\n",
    "{\n",
    "\"name\": \"AlphaJet\",\n",
    "\"imdb\": 3.2,\n",
    "\"category\": \"War\"\n",
    "},\n",
    "{\n",
    "\"name\": \"Ringing Crime\",\n",
    "\"imdb\": 4.0,\n",
    "\"category\": \"Crime\"\n",
    "},\n",
    "{\n",
    "\"name\": \"Joking muck\",\n",
    "\"imdb\": 7.2,\n",
    "\"category\": \"Comedy\"\n",
    "},\n",
    "{\n",
    "\"name\": \"What is the name\",\n",
    "\"imdb\": 9.2,\n",
    "\"category\": \"Suspense\"\n",
    "},\n",
    "{\n",
    "\"name\": \"Detective\",\n",
    "\"imdb\": 7.0,\n",
    "\"category\": \"Suspense\"\n",
    "},\n",
    "{\n",
    "\"name\": \"Exam\",\n",
    "\"imdb\": 4.2,\n",
    "\"category\": \"Thriller\"\n",
    "},\n",
    "{\n",
    "\"name\": \"We Two\",\n",
    "\"imdb\": 7.2,\n",
    "\"category\": \"Romance\"\n",
    "}\n",
    "]"
   ]
  },
  {
   "cell_type": "markdown",
   "id": "452033da-019a-48d9-a568-7f70af10ad71",
   "metadata": {},
   "source": [
    "Write a function that takes a single movie and returns True if its IMDB score is above 5.5"
   ]
  },
  {
   "cell_type": "code",
   "execution_count": 53,
   "id": "983f1f53-b1c6-4a2f-9cff-2c7d42ca6704",
   "metadata": {},
   "outputs": [
    {
     "name": "stdout",
     "output_type": "stream",
     "text": [
      "Usual Suspects\n",
      "True\n",
      "Hitman\n",
      "True\n",
      "Dark Knight\n",
      "True\n",
      "The Help\n",
      "True\n",
      "The Choice\n",
      "True\n",
      "Colonia\n",
      "True\n",
      "Love\n",
      "True\n",
      "Joking muck\n",
      "True\n",
      "What is the name\n",
      "True\n",
      "Detective\n",
      "True\n",
      "We Two\n",
      "True\n"
     ]
    }
   ],
   "source": [
    "#1\n",
    "def negro(movies):\n",
    "    for i in movies:\n",
    "        if(i[\"imdb\"] > 5.5):\n",
    "            print(i[\"name\"])\n",
    "            print(True)\n",
    "\n",
    "negro(movies)"
   ]
  },
  {
   "cell_type": "code",
   "execution_count": null,
   "id": "4bf4196a-6944-49c5-908b-5b9cce5c1718",
   "metadata": {},
   "outputs": [],
   "source": [
    "Write a function that returns a sublist of movies with an IMDB score above 5.5.\n",
    "\n"
   ]
  },
  {
   "cell_type": "code",
   "execution_count": 56,
   "id": "7745d69b-fe40-4ae1-acf9-bff5fa802b85",
   "metadata": {},
   "outputs": [
    {
     "data": {
      "text/plain": [
       "['Usual Suspects',\n",
       " 'Hitman',\n",
       " 'Dark Knight',\n",
       " 'The Help',\n",
       " 'The Choice',\n",
       " 'Colonia',\n",
       " 'Love',\n",
       " 'Joking muck',\n",
       " 'What is the name',\n",
       " 'Detective',\n",
       " 'We Two']"
      ]
     },
     "execution_count": 56,
     "metadata": {},
     "output_type": "execute_result"
    }
   ],
   "source": [
    "#2\n",
    "def negro(movies):\n",
    "    for i in movies:\n",
    "        if(i[\"imdb\"] > 5.5):\n",
    "            except_movies.append(i[\"name\"])\n",
    "    return except_movies\n",
    "\n",
    "except_movies = []\n",
    "negro(movies)"
   ]
  },
  {
   "cell_type": "markdown",
   "id": "e7e21f49-50fa-47fa-bf16-1e00ab6cbc3e",
   "metadata": {},
   "source": [
    "Write a function that takes a category name and returns just those movies under that category.\n",
    "\n"
   ]
  },
  {
   "cell_type": "code",
   "execution_count": 60,
   "id": "c7c31238-b291-4b41-be46-57688633a20a",
   "metadata": {},
   "outputs": [
    {
     "name": "stdin",
     "output_type": "stream",
     "text": [
      "category Comedy\n"
     ]
    },
    {
     "name": "stdout",
     "output_type": "stream",
     "text": [
      "Joking muck\n"
     ]
    }
   ],
   "source": [
    "#3\n",
    "def cat(category, movies):\n",
    "    for i in movies:\n",
    "        if(i[\"category\"] == category):\n",
    "            print(i[\"name\"])\n",
    "\n",
    "category = str(input(\"category\"))\n",
    "cat(category, movies)"
   ]
  },
  {
   "cell_type": "markdown",
   "id": "a1056a9c-9034-4af7-9669-369d85021d40",
   "metadata": {},
   "source": [
    "Write a function that takes a list of movies and computes the average IMDB score.\n",
    "\n"
   ]
  },
  {
   "cell_type": "code",
   "execution_count": 30,
   "id": "74384196-1ef0-4dee-9e65-a7c7d7d57717",
   "metadata": {},
   "outputs": [
    {
     "name": "stdin",
     "output_type": "stream",
     "text": [
      "Enter movie names split by comma Joking muck, Detective, We Two\n"
     ]
    },
    {
     "data": {
      "text/plain": [
       "7.133333333333333"
      ]
     },
     "execution_count": 30,
     "metadata": {},
     "output_type": "execute_result"
    }
   ],
   "source": [
    "#4\n",
    "def cat_list(movie_names, movies):\n",
    "    sum = 0\n",
    "    count = 0\n",
    "    for i in movies:\n",
    "        if(i[\"name\"] in movie_names):\n",
    "            count += 1\n",
    "            sum += i[\"imdb\"]\n",
    "\n",
    "    if(count == 0):\n",
    "        return 0\n",
    "    return sum / count\n",
    "\n",
    "movie_names = str(input(\"Enter movie names split by comma\"))\n",
    "movie_names = movie_names.split(\", \")\n",
    "cat_list(movie_names, movies)"
   ]
  },
  {
   "cell_type": "markdown",
   "id": "4296c80e-e292-4c4e-8314-ab91c43f8128",
   "metadata": {},
   "source": [
    "Write a function that takes a category and computes the average IMDB score.\n",
    "\n"
   ]
  },
  {
   "cell_type": "code",
   "execution_count": 10,
   "id": "f2530f06-60a7-4c49-afc4-598c8bad6758",
   "metadata": {},
   "outputs": [
    {
     "name": "stdin",
     "output_type": "stream",
     "text": [
      "What category to compute War\n"
     ]
    },
    {
     "data": {
      "text/plain": [
       "3.2"
      ]
     },
     "execution_count": 10,
     "metadata": {},
     "output_type": "execute_result"
    }
   ],
   "source": [
    "#5\n",
    "def cat_avg(movies, cat):\n",
    "    sum = 0\n",
    "    count = 0\n",
    "    for i in movies:\n",
    "        if(i[\"category\"] == cat):\n",
    "            sum += i[\"imdb\"]\n",
    "            count += 1\n",
    "    return sum / count\n",
    "\n",
    "cat = input(\"What category to compute\")\n",
    "cat_avg(movies, cat)"
   ]
  },
  {
   "cell_type": "code",
   "execution_count": null,
   "id": "830c5aeb-9afe-4230-be04-9e991547e3cb",
   "metadata": {},
   "outputs": [],
   "source": [
    "#classes.md:"
   ]
  },
  {
   "cell_type": "markdown",
   "id": "86bcbe9d-e6fd-45db-9261-f4c66f00ccad",
   "metadata": {},
   "source": [
    "Define a class which has at least two methods: getString: to get a string from console input printString: to print the string in upper case.\n",
    "\n"
   ]
  },
  {
   "cell_type": "code",
   "execution_count": 18,
   "id": "ecf87907-88e2-4199-9880-5a5970d6d0ce",
   "metadata": {},
   "outputs": [
    {
     "name": "stdin",
     "output_type": "stream",
     "text": [
      "Enter a string value strign\n"
     ]
    },
    {
     "name": "stdout",
     "output_type": "stream",
     "text": [
      "STRIGN\n"
     ]
    }
   ],
   "source": [
    "#1\n",
    "class Stringi:\n",
    "    def __init__(self, string):\n",
    "        self.string = string\n",
    "    \n",
    "    def getString(self):\n",
    "        self.string = input(\"Enter a string value\")\n",
    "        \n",
    "    def printString(self):\n",
    "        print(self.string.upper())\n",
    "\n",
    "dummy = Stringi(\"\")\n",
    "dummy.getString()\n",
    "dummy.printString()"
   ]
  },
  {
   "cell_type": "markdown",
   "id": "b4218e25-d778-40ee-82aa-40918327d8a3",
   "metadata": {},
   "source": [
    "Define a class named Shape and its subclass Square. The Square class has an init function which takes a length as argument. Both classes have a area function which can print the area of the shape where Shape's area is 0 by default.\n",
    "\n"
   ]
  },
  {
   "cell_type": "code",
   "execution_count": 20,
   "id": "d1cc907c-8f9d-4526-854f-c21909686242",
   "metadata": {},
   "outputs": [
    {
     "name": "stdout",
     "output_type": "stream",
     "text": [
      "100\n"
     ]
    }
   ],
   "source": [
    "#2\n",
    "class Shape:\n",
    "    def __init__(self):\n",
    "        pass\n",
    "    \n",
    "    def area():\n",
    "        pass\n",
    "\n",
    "class Square(Shape):\n",
    "    def __init(self, length):\n",
    "        super().__init__()\n",
    "        self.length = length\n",
    "\n",
    "    def area(self):\n",
    "        print(self.length * self.length)\n",
    "\n",
    "square = Square()\n",
    "square.length = 10\n",
    "square.area()"
   ]
  },
  {
   "cell_type": "markdown",
   "id": "0113e159-7c13-4001-ac87-f781bd2bedac",
   "metadata": {},
   "source": [
    "Define a class named Rectangle which inherits from Shape class from task 2. Class instance can be constructed by a length and width. The Rectangle class has a method which can compute the area.\n",
    "\n"
   ]
  },
  {
   "cell_type": "code",
   "execution_count": 22,
   "id": "cf41a35d-d7f6-4948-b15b-a2cf70326db8",
   "metadata": {},
   "outputs": [
    {
     "name": "stdout",
     "output_type": "stream",
     "text": [
      "150\n"
     ]
    }
   ],
   "source": [
    "#3\n",
    "#2\n",
    "class Shape:\n",
    "    def __init__(self):\n",
    "        pass\n",
    "    \n",
    "    def area():\n",
    "        pass\n",
    "\n",
    "class Rectangle(Shape):\n",
    "    def __init(self, length, width):\n",
    "        super().__init__()\n",
    "        self.length = length\n",
    "        self.width = width\n",
    "\n",
    "    def area(self):\n",
    "        print(self.length * self.width)\n",
    "\n",
    "rectum = Rectangle()\n",
    "rectum.length = 10\n",
    "rectum.width = 15\n",
    "rectum.area()"
   ]
  },
  {
   "cell_type": "markdown",
   "id": "d1692718-974b-420e-a18b-6c6a56bae5ee",
   "metadata": {},
   "source": [
    "Write the definition of a Point class. Objects from this class should have a\n",
    "\n",
    "a method show to display the coordinates of the point\n",
    "\n",
    "\n",
    "a method move to change these coordinates\n",
    "\n",
    "\n",
    "a method dist that computes the distance between 2 points\n",
    "\n"
   ]
  },
  {
   "cell_type": "code",
   "execution_count": 25,
   "id": "22c292a9-a047-4dc9-9f33-09c066fb125c",
   "metadata": {},
   "outputs": [
    {
     "name": "stdout",
     "output_type": "stream",
     "text": [
      "0.0 is distance between 2 points\n"
     ]
    }
   ],
   "source": [
    "#4\n",
    "import math\n",
    "class Point:\n",
    "    def __init__(self, x, y):\n",
    "        self.x = x\n",
    "        self.y = y\n",
    "\n",
    "    def show(self):\n",
    "        print(f\"Coordinates: {(x,y)}\")\n",
    "\n",
    "    def move(self):\n",
    "        self.x = int(input(\"Enter new coordinate for x\"))\n",
    "        self.y = int(input(\"Enter new coordinate for y\"))\n",
    "\n",
    "    def dist(self, point):\n",
    "        print(f\"{math.sqrt(self.x ** 2 - point.x ** 2) + math.sqrt(self.y ** 2 - point.y ** 2)} is distance between 2 points\")\n",
    "\n",
    "point1 = Point(15, 10)\n",
    "point2 = Point(15, 10)\n",
    "point1.dist(point2)"
   ]
  },
  {
   "cell_type": "markdown",
   "id": "cdb319ab-7fee-4906-b693-cf9b8c9c7860",
   "metadata": {},
   "source": [
    "Create a bank account class that has attributes owner, balance and two methods deposit and withdraw. Withdrawals may not exceed the available balance. Instantiate your class, make several deposits and withdrawals, and test to make sure the account can't be overdrawn."
   ]
  },
  {
   "cell_type": "code",
   "execution_count": 26,
   "id": "56e0b9b8-fe14-4475-a542-00937767c7cc",
   "metadata": {},
   "outputs": [
    {
     "name": "stdin",
     "output_type": "stream",
     "text": [
      "Enter amount of money you want to withdraw 15\n",
      "Enter amount of money to deposit 15\n"
     ]
    },
    {
     "name": "stdout",
     "output_type": "stream",
     "text": [
      "Succesfully deposited\n"
     ]
    }
   ],
   "source": [
    "#5\n",
    "class Account:\n",
    "    def __init__(self, owner, balance):\n",
    "        self.owner = owner\n",
    "        self.balance = balance\n",
    "\n",
    "    def withdraw(self):\n",
    "        withdraw = float(input(\"Enter amount of money you want to withdraw\"))\n",
    "        if(self.balance < withdraw):\n",
    "            print(f\"Unfortunately, you are broke, current balance {self.balance}\")\n",
    "        \n",
    "    def deposit(self):\n",
    "        deposit = float(input(\"Enter amount of money to deposit\"))\n",
    "        self.balance += deposit\n",
    "        print(f\"Succesfully deposited, current balance: {self.balance}\")\n",
    "\n",
    "client1 = Account(\"Jasmine\", 15000)\n",
    "client1.withdraw()\n",
    "client1.deposit()\n"
   ]
  },
  {
   "cell_type": "markdown",
   "id": "ed8c8033-a139-4fe6-b69b-b39c38c91204",
   "metadata": {},
   "source": [
    "Write a program which can filter prime numbers in a list by using filter function. Note: Use lambda to define anonymous functions.\n"
   ]
  },
  {
   "cell_type": "code",
   "execution_count": 27,
   "id": "1fccb099-3c30-4964-943e-36cd705b6f6f",
   "metadata": {},
   "outputs": [
    {
     "name": "stdin",
     "output_type": "stream",
     "text": [
      "Enter elements of the list separated by space:  1 3 4 5\n"
     ]
    },
    {
     "name": "stdout",
     "output_type": "stream",
     "text": [
      "[3, 5]\n"
     ]
    }
   ],
   "source": [
    "#6\n",
    "def filter_prime(numbers):\n",
    "    return [n for n in numbers if (lambda n: n > 1 and all(n % i != 0 for i in range(2, int(n ** 0.5) + 1)))(n)]\n",
    "\n",
    "input_str = input(\"Enter elements of the list separated by space: \")\n",
    "\n",
    "my_list = input_str.split()\n",
    "my_list = [int(num) for num in my_list]\n",
    "\n",
    "print(filter_prime(my_list))"
   ]
  },
  {
   "cell_type": "code",
   "execution_count": null,
   "id": "16048ed0-3d0a-40ec-8fbc-fec81c8c6ff7",
   "metadata": {},
   "outputs": [],
   "source": []
  }
 ],
 "metadata": {
  "kernelspec": {
   "display_name": "Python 3 (ipykernel)",
   "language": "python",
   "name": "python3"
  },
  "language_info": {
   "codemirror_mode": {
    "name": "ipython",
    "version": 3
   },
   "file_extension": ".py",
   "mimetype": "text/x-python",
   "name": "python",
   "nbconvert_exporter": "python",
   "pygments_lexer": "ipython3",
   "version": "3.10.12"
  }
 },
 "nbformat": 4,
 "nbformat_minor": 5
}
